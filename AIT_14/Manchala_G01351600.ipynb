{
  "cells": [
    {
      "cell_type": "markdown",
      "metadata": {
        "id": "3LEbnshqLLK9"
      },
      "source": [
        "## Making Sentiment Analysis Better with NLTK & Scikit-Learn\n",
        "\n",
        "So you might be asking, what exactly is \"sentiment analysis\"? \n",
        "\n",
        "Well, it's exactly what it sounds like: it's building a computational system to determine the emotional tone behind words. This is important because it allows you to gain an understanding of the attitudes, opinions, and emotions of the people in your data. At a higher level, sentiment analysis involves Natural language processing and artificial intelligence by taking the actual text element, transforming it into a format that a machine can read, and using statistics to determine the actual sentiment.\n",
        "\n",
        "In this tutorial, we'll review some of the methods used to determine sentiment, but focus on the ways in which we can make sentiment analysis *better*. \n"
      ]
    },
    {
      "cell_type": "markdown",
      "metadata": {
        "id": "HUKAI22XLLK_"
      },
      "source": [
        "### Environment Setup\n",
        "\n",
        "This guide was written in Python 3.6. If you haven't already, download Python and Pip. Next, you’ll need to install several packages that we’ll use throughout this tutorial:\n",
        "\n",
        "``` \n",
        "pip3 install re\n",
        "pip3 install nltk\n",
        "pip3 install sklearn\n",
        "```\n",
        "\n",
        "Lastly, download the data we'll be working with in this example. You can find this in your folder as `negative_tweets` and `positive_tweets`.\n",
        "\n",
        "Now you're all set to begin!"
      ]
    },
    {
      "cell_type": "markdown",
      "metadata": {
        "id": "4apadwuULLLA"
      },
      "source": [
        "Sentiment Analysis isn't a new problem. There are thousands of labeled data out there, labels varying from simple positive and negative to more complex systems that determine *how* positive or negative is a given text. With that said, I've selected a pre-labeled set of data consisting of tweets from Twitter. Using this data, we'll begin by building a sentiment analysis model with scikit-learn. \n",
        "\n",
        "For those of you unfamiliar with scikit-learn, `scikit-learn` is a Python module with built-in implemented machine learning algorithms. In this tutorial, we'll specifically use the Logistic Regression model, which is a linear model commonly used for classifying binary data."
      ]
    },
    {
      "cell_type": "code",
      "execution_count": 3,
      "metadata": {
        "id": "2dPokQQKLLLB"
      },
      "outputs": [],
      "source": [
        "import re\n",
        "import nltk\n",
        "from sklearn.feature_extraction.text import CountVectorizer  \n",
        "from sklearn.model_selection import train_test_split \n",
        "# if this doesn't work, try: from sklearn.cross_validation import train_test_split"
      ]
    },
    {
      "cell_type": "markdown",
      "metadata": {
        "id": "otXkxUtvLLLC"
      },
      "source": [
        "# 1. Building Sentiment Classifier using Scikit-Learn package"
      ]
    },
    {
      "cell_type": "markdown",
      "metadata": {
        "id": "SaCjgPUWLLLC"
      },
      "source": [
        "### Preparing the Data\n",
        "\n",
        "To implement our linear classifier, we need the twitter data in a format that allows us to feed it into the classifier. Using the `sklearn.feature_extraction.text.CountVectorizer`, we will convert the text documents to a matrix of token counts. As you'll see soon enough, these vector counts will be what the classifier will ultimately use to train. So first, we import all the needed modules: "
      ]
    },
    {
      "cell_type": "markdown",
      "metadata": {
        "id": "6RGCwWR1LLLD"
      },
      "source": [
        "But before we even get to vectorizing, we haven't even read in our data! Each file is a text file where each line is a sentence, so we can use the built-in `open()` function to split the file into tweets and append them to lists. Note that text and labels have to be separated for the test phase of this example!"
      ]
    },
    {
      "cell_type": "code",
      "execution_count": 4,
      "metadata": {
        "id": "ePfdhvlALLLD"
      },
      "outputs": [],
      "source": [
        "text_pos = []\n",
        "labels_pos = []\n",
        "with open(\"/content/pos_tweets.txt\") as f:\n",
        "    for i in f: \n",
        "        text_pos.append(i) \n",
        "        labels_pos.append('pos')\n",
        "\n",
        "text_neg = []\n",
        "labels_neg = []\n",
        "with open(\"/content/neg_tweets.txt\") as f:\n",
        "    for i in f: \n",
        "        text_neg.append(i)\n",
        "        labels_neg.append('neg')"
      ]
    },
    {
      "cell_type": "markdown",
      "metadata": {
        "id": "lNZjDND6LLLE"
      },
      "source": [
        "Now that the data is properly stored in Python lists, it's time to split this data into training and test data. For the purpose of this tutorial, we'll keep 80% for training and 20% for testing -- we do this with Python list slicing! "
      ]
    },
    {
      "cell_type": "code",
      "execution_count": 5,
      "metadata": {
        "id": "hEKhVt9LLLLE"
      },
      "outputs": [],
      "source": [
        "training_text = text_pos[:int((.8)*len(text_pos))] + text_neg[:int((.8)*len(text_neg))]\n",
        "training_labels = labels_pos[:int((.8)*len(labels_pos))] + labels_neg[:int((.8)*len(labels_neg))]\n",
        "\n",
        "test_text = text_pos[int((.8)*len(text_pos)):] + text_neg[int((.8)*len(text_neg)):]\n",
        "test_labels = labels_pos[int((.8)*len(labels_pos)):] + labels_neg[int((.8)*len(labels_neg)):]"
      ]
    },
    {
      "cell_type": "markdown",
      "metadata": {
        "id": "btHxdzfJLLLE"
      },
      "source": [
        "Next, we initialize a vectoriser with the CountVectorizer class. Because we haven't pre-processed any of the data, we'll set lowercase to `False` and exclude stop word removal or stemming. "
      ]
    },
    {
      "cell_type": "code",
      "execution_count": 6,
      "metadata": {
        "id": "geg8-vFGLLLF"
      },
      "outputs": [],
      "source": [
        "vectorizer = CountVectorizer(\n",
        "    analyzer = 'word',\n",
        "    lowercase = False,\n",
        "    max_features = 85\n",
        ")"
      ]
    },
    {
      "cell_type": "markdown",
      "metadata": {
        "id": "ye5scqpCLLLF"
      },
      "source": [
        "Next, we use the `fit_transform()` method to transform our corpus data into feature vectors. Since the input needed is a list of strings, we concatenate all of our training and test data. "
      ]
    },
    {
      "cell_type": "code",
      "execution_count": 7,
      "metadata": {
        "id": "h3P_PaiNLLLF"
      },
      "outputs": [],
      "source": [
        "features = vectorizer.fit_transform(\n",
        "    training_text + test_text)\n",
        "\n",
        "features_nd = features.toarray() # for easy use"
      ]
    },
    {
      "cell_type": "markdown",
      "metadata": {
        "id": "qTLqEUdyLLLF"
      },
      "source": [
        "As a final step, we'll split the training data to get an evaluation set through scikit-learn's built-in cross validation method. All we need to do is provide the data and assign a training percentage (in this case, 80%)."
      ]
    },
    {
      "cell_type": "code",
      "execution_count": 8,
      "metadata": {
        "id": "macR1ktPLLLF"
      },
      "outputs": [],
      "source": [
        "x_train, x_test, y_train, y_test  = train_test_split(\n",
        "        features_nd[0:len(training_text)], \n",
        "        training_labels,\n",
        "        train_size=0.80, \n",
        "        random_state=1234)"
      ]
    },
    {
      "cell_type": "markdown",
      "metadata": {
        "id": "nc3L0o2gLLLF"
      },
      "source": [
        "### Building Model - Linear Classifier\n",
        "\n",
        "Finally, we can build the classifier for this corpus! As mentioned before, we'll be using the Logistic Regression from scikit-learn, so we'll start there: "
      ]
    },
    {
      "cell_type": "code",
      "execution_count": 9,
      "metadata": {
        "id": "81JJ8bCiLLLG"
      },
      "outputs": [],
      "source": [
        "from sklearn.linear_model import LogisticRegression\n",
        "log_model = LogisticRegression()"
      ]
    },
    {
      "cell_type": "markdown",
      "metadata": {
        "id": "SEVjhHeyLLLG"
      },
      "source": [
        "Once the model is initialized, we have to fit it to our specific dataset, so we use scikit-learn's `fit()` method to do so:"
      ]
    },
    {
      "cell_type": "code",
      "execution_count": 10,
      "metadata": {
        "id": "iLk2EmHgLLLG"
      },
      "outputs": [],
      "source": [
        "log_model = log_model.fit(x_train, y_train)"
      ]
    },
    {
      "cell_type": "markdown",
      "metadata": {
        "id": "IVP-9sWCLLLH"
      },
      "source": [
        "And finally, we use this classifier to label the evaluation set we created earlier:"
      ]
    },
    {
      "cell_type": "code",
      "execution_count": 11,
      "metadata": {
        "id": "pFqOaNdiLLLH"
      },
      "outputs": [],
      "source": [
        "test_pred = log_model.predict(x_test)"
      ]
    },
    {
      "cell_type": "code",
      "source": [
        "print(test_pred)"
      ],
      "metadata": {
        "id": "aiVjAXi1hK-d"
      },
      "execution_count": null,
      "outputs": []
    },
    {
      "cell_type": "markdown",
      "metadata": {
        "id": "G8ChE7JfLLLH"
      },
      "source": [
        "### Tesing Model Accuracy"
      ]
    },
    {
      "cell_type": "markdown",
      "metadata": {
        "id": "kpPOH4iJLLLH"
      },
      "source": [
        "Now just for our own \"fun\", let's take a look at some of the classifications our model makes! We'll choose a random set and then call our model on each! "
      ]
    },
    {
      "cell_type": "code",
      "execution_count": 13,
      "metadata": {
        "id": "gGtyCAy2LLLH",
        "outputId": "779be258-3b15-464e-cd49-2a398032a43a",
        "colab": {
          "base_uri": "https://localhost:8080/"
        }
      },
      "outputs": [
        {
          "output_type": "stream",
          "name": "stdout",
          "text": [
            "neg \"Love that the Obamas are bringing back date night. Men, take note  http://bit.ly/ebPBZ\"\n",
            "\n",
            "neg \"loves chocolate milk  and that is GF YEAH..\"\n",
            "\n",
            "neg \"loving life... and loving you \"\n",
            "\n",
            "pos \"Lunch date with @Londonmitch to go to Leathenhall Market's cheese shop was really nice \"\n",
            "\n",
            "neg \"Made my evening: Starbucks barista complimented me on my hamsa scarf. When he heard I designed it and sell them on etsy he was \"\n",
            "\n",
            "neg \"Matt came to visit!  canton with him for dinner then prolly stopping somewhere for drinks and the cavs \"\n",
            "\n",
            "pos \"May be going to London next week \"\n",
            "\n",
            "pos \"me and rosa are going 2 start our own youtube channel! i'm super excited that we get 2 share our RaNdOmNeSs with the world!!!! \"\n",
            "\n",
            "neg \"Modern warfare 2 gameplay looks goood  #xboxe3\"\n",
            "\n",
            "neg \"Momz just made it back from Vegas, yayyyyy! \"\n",
            "\n"
          ]
        }
      ],
      "source": [
        "import random\n",
        "spl = random.sample(range(len(test_pred)), 10)\n",
        "for text, sentiment in zip(test_text, test_pred[spl]):\n",
        "    print (sentiment, text)"
      ]
    },
    {
      "cell_type": "markdown",
      "metadata": {
        "id": "jKrTW73MLLLH"
      },
      "source": [
        "Just glancing over the examples above, it's pretty obvious there are some misclassifications. But obviously we want to do more than just 'eyeball' the data, so let's actually calculate the accuracy score. "
      ]
    },
    {
      "cell_type": "markdown",
      "metadata": {
        "id": "-l_dKIsRLLLH"
      },
      "source": [
        "What's the point in creating a machine learning algorithm if you have no idea how it performs? This is why we left some of the dataset for testing purposes. In scikit-learn, there is a function called sklearn.metrics.accuracy_score which calculates the accuracy percentage. Using this, we see that this model has an accuracy of about 76%. "
      ]
    },
    {
      "cell_type": "code",
      "execution_count": 14,
      "metadata": {
        "id": "eqYexo86LLLI",
        "outputId": "08d98696-956c-453c-add3-90e8837a96bc",
        "colab": {
          "base_uri": "https://localhost:8080/"
        }
      },
      "outputs": [
        {
          "output_type": "stream",
          "name": "stdout",
          "text": [
            "0.7601246105919003\n"
          ]
        }
      ],
      "source": [
        "from sklearn.metrics import accuracy_score\n",
        "print(accuracy_score(y_test, test_pred))"
      ]
    },
    {
      "cell_type": "markdown",
      "metadata": {
        "id": "q5zcnlP0LLLI"
      },
      "source": [
        "Yikes. 76% is better than randomly guessing, but still pretty low as far as classification accuracy goes. *Maybe* this is the best we can do with this dataset, but maybe we *can* do better? So let's give it a try with the Python module `nltk`. "
      ]
    },
    {
      "cell_type": "markdown",
      "metadata": {
        "id": "Wii1p-_KLLLI"
      },
      "source": [
        "# 2. Building Sentiment Classifier using NLTK package"
      ]
    },
    {
      "cell_type": "markdown",
      "metadata": {
        "id": "OaE_godTLLLI"
      },
      "source": [
        "### Preparing the Data \n",
        "\n",
        "`nltk` is a much different from `scikit-learn`. `nltk` specializes and is *made for* natural language processing tasks, so needless to say, it was expected that `scikit-learn` wouldn't necessarily be the best choice. \n",
        " \n",
        "With that said, we'll now use `nltk` to build a sentiment analysis model on the same dataset. `nltk` requires a different data format, which is why I've implemented the function below:"
      ]
    },
    {
      "cell_type": "code",
      "execution_count": 15,
      "metadata": {
        "colab": {
          "base_uri": "https://localhost:8080/"
        },
        "id": "YwLQc6d7LLLI",
        "outputId": "e3a802a9-10fb-4d2f-948d-04a6f0135199"
      },
      "outputs": [
        {
          "output_type": "stream",
          "name": "stdout",
          "text": [
            "[nltk_data] Downloading package punkt to /root/nltk_data...\n",
            "[nltk_data]   Unzipping tokenizers/punkt.zip.\n"
          ]
        }
      ],
      "source": [
        "import nltk\n",
        "nltk.download('punkt')\n",
        "\n",
        "def format_sentence(sent):\n",
        "    return({word: True for word in nltk.word_tokenize(sent)})\n",
        "\n"
      ]
    },
    {
      "cell_type": "code",
      "execution_count": 16,
      "metadata": {
        "colab": {
          "base_uri": "https://localhost:8080/"
        },
        "id": "VEgCSMEVLLLI",
        "outputId": "7660e445-1d81-4b4d-bb0b-5e98df798e2a"
      },
      "outputs": [
        {
          "output_type": "stream",
          "name": "stdout",
          "text": [
            "{'The': True, 'cat': True, 'is': True, 'very': True, 'cute': True}\n"
          ]
        }
      ],
      "source": [
        "print(format_sentence(\"The cat is very cute\"))"
      ]
    },
    {
      "cell_type": "markdown",
      "metadata": {
        "id": "_lYMR6GDLLLI"
      },
      "source": [
        "Here, `format_sentence` changes each tweet into a dictionary of words mapped to `True` booleans. Though not obvious from this function alone, this will eventually allow us to train our prediction model by splitting the text into its tokens, i.e. <i>tokenizing</i> the text. You'll learn about why this format is important in a later section.\n",
        "\n",
        "Using the data on the github repo, we'll actually format the positively and negatively labeled data."
      ]
    },
    {
      "cell_type": "code",
      "execution_count": 17,
      "metadata": {
        "id": "STgHroguLLLI",
        "outputId": "61bc334c-5d4f-4b3d-d72b-a89e41a8586f",
        "colab": {
          "base_uri": "https://localhost:8080/"
        }
      },
      "outputs": [
        {
          "output_type": "stream",
          "name": "stderr",
          "text": [
            "/usr/local/lib/python3.7/dist-packages/ipykernel_launcher.py:3: DeprecationWarning: 'U' mode is deprecated\n",
            "  This is separate from the ipykernel package so we can avoid doing imports until\n"
          ]
        }
      ],
      "source": [
        "import io\n",
        "pos = []\n",
        "with io.open(\"/content/pos_tweets.txt\", 'rU', encoding='utf-8') as f:\n",
        "    for i in f: \n",
        "        pos.append([format_sentence(i), 'pos'])"
      ]
    },
    {
      "cell_type": "code",
      "execution_count": 18,
      "metadata": {
        "id": "C10N-Z00LLLJ",
        "outputId": "2797ac06-2fd4-4eff-b2de-f885292960c0",
        "colab": {
          "base_uri": "https://localhost:8080/"
        }
      },
      "outputs": [
        {
          "output_type": "stream",
          "name": "stderr",
          "text": [
            "/usr/local/lib/python3.7/dist-packages/ipykernel_launcher.py:2: DeprecationWarning: 'U' mode is deprecated\n",
            "  \n"
          ]
        }
      ],
      "source": [
        "neg = []\n",
        "with io.open(\"/content/neg_tweets.txt\", 'rU', encoding='utf-8') as f:\n",
        "    for i in f: \n",
        "        neg.append([format_sentence(i), 'neg'])"
      ]
    },
    {
      "cell_type": "markdown",
      "metadata": {
        "id": "Ykl5WwstLLLJ"
      },
      "source": [
        "Next, we'll split the labeled data into the training and test data, just as we did before."
      ]
    },
    {
      "cell_type": "code",
      "execution_count": 19,
      "metadata": {
        "id": "FQS0VcT1LLLJ"
      },
      "outputs": [],
      "source": [
        "training = pos[:int((.8)*len(pos))] + neg[:int((.8)*len(neg))]\n",
        "test = pos[int((.8)*len(pos)):] + neg[int((.8)*len(neg)):]"
      ]
    },
    {
      "cell_type": "markdown",
      "metadata": {
        "id": "tmAndOIRLLLJ"
      },
      "source": [
        "### Building a Classifier\n",
        "\n",
        "All NLTK classifiers work with feature structures, which can be simple dictionaries mapping a feature name to a feature value. In this example, we use the Naive Bayes Classifier, which makes predictions based on the word frequencies associated with each label of positive or negative."
      ]
    },
    {
      "cell_type": "code",
      "execution_count": 20,
      "metadata": {
        "id": "fPL6tgAnLLLJ"
      },
      "outputs": [],
      "source": [
        "from nltk.classify import NaiveBayesClassifier\n",
        "\n",
        "classifier = NaiveBayesClassifier.train(training)"
      ]
    },
    {
      "cell_type": "markdown",
      "metadata": {
        "id": "jFBA7SAWLLLJ"
      },
      "source": [
        "Since the Naive Bayes Classifier is based entirely off of the frequencies associated with each label for a given word, we can call a function `show_most_informative_features()` to see which words are the highest indicators of a positive or negative label:"
      ]
    },
    {
      "cell_type": "code",
      "execution_count": 21,
      "metadata": {
        "id": "bK74mjUPLLLJ",
        "outputId": "8c9ac3c5-9cfa-4b91-fe36-8c3c5cb5940f",
        "colab": {
          "base_uri": "https://localhost:8080/"
        }
      },
      "outputs": [
        {
          "output_type": "stream",
          "name": "stdout",
          "text": [
            "Most Informative Features\n",
            "                      no = True              neg : pos    =     19.4 : 1.0\n",
            "                    love = True              pos : neg    =     19.0 : 1.0\n",
            "                 awesome = True              pos : neg    =     17.2 : 1.0\n",
            "                headache = True              neg : pos    =     16.2 : 1.0\n",
            "                      Hi = True              pos : neg    =     12.7 : 1.0\n",
            "                     New = True              pos : neg    =      9.7 : 1.0\n",
            "                   Thank = True              pos : neg    =      9.7 : 1.0\n",
            "                     fan = True              pos : neg    =      9.7 : 1.0\n",
            "               beautiful = True              pos : neg    =      9.7 : 1.0\n",
            "                    haha = True              pos : neg    =      9.3 : 1.0\n"
          ]
        }
      ],
      "source": [
        "classifier.show_most_informative_features()"
      ]
    },
    {
      "cell_type": "markdown",
      "metadata": {
        "id": "25V4c05eLLLJ"
      },
      "source": [
        "Notice that there are three columns. Column 1 is why we used `format_sentence()` to map each word to a `True` value. What it does is count the number of occurences of each word for both labels to compute the ratio between the two, which is what column 3 represents. Column 2 lets us know which label occurs more frequently (the label on the left is the label most associated with the corresponding word. "
      ]
    },
    {
      "cell_type": "markdown",
      "metadata": {
        "id": "LGJXWg9ELLLJ"
      },
      "source": [
        "### Classification\n",
        "\n",
        "Just to see how our model works, let's try the classifier out with a positive example: "
      ]
    },
    {
      "cell_type": "code",
      "execution_count": 22,
      "metadata": {
        "id": "L1WStPC9LLLJ",
        "outputId": "ee3469b4-b2ab-4d23-c47f-b290f5f77005",
        "colab": {
          "base_uri": "https://localhost:8080/"
        }
      },
      "outputs": [
        {
          "output_type": "stream",
          "name": "stdout",
          "text": [
            "pos\n"
          ]
        }
      ],
      "source": [
        "example1 = \"Twilio is an awesome company!\"\n",
        "\n",
        "print(classifier.classify(format_sentence(example1)))"
      ]
    },
    {
      "cell_type": "markdown",
      "metadata": {
        "id": "Fdx2tNY8LLLK"
      },
      "source": [
        "Now let's try out an example we'd expect a negative label: "
      ]
    },
    {
      "cell_type": "code",
      "execution_count": 23,
      "metadata": {
        "id": "X6JXLAsjLLLK",
        "outputId": "5fe65e14-7637-4f09-8ba7-c3c8bad5b15a",
        "colab": {
          "base_uri": "https://localhost:8080/"
        }
      },
      "outputs": [
        {
          "output_type": "stream",
          "name": "stdout",
          "text": [
            "neg\n"
          ]
        }
      ],
      "source": [
        "example2 = \"I'm sad that Twilio doesn't have even more blog posts!\"\n",
        "\n",
        "print(classifier.classify(format_sentence(example2)))"
      ]
    },
    {
      "cell_type": "markdown",
      "metadata": {
        "id": "6Bh1ZMz-LLLK"
      },
      "source": [
        "So what happens when we mix words of different sentiment labels? Let's take a look at this example:"
      ]
    },
    {
      "cell_type": "code",
      "execution_count": 24,
      "metadata": {
        "id": "GUGi-qwOLLLK",
        "outputId": "073624e3-9a95-496d-8eef-b5e03310171e",
        "colab": {
          "base_uri": "https://localhost:8080/"
        }
      },
      "outputs": [
        {
          "output_type": "stream",
          "name": "stdout",
          "text": [
            "neg\n"
          ]
        }
      ],
      "source": [
        "example3 = \"I have no headache!\"\n",
        "\n",
        "print(classifier.classify(format_sentence(example3)))"
      ]
    },
    {
      "cell_type": "markdown",
      "metadata": {
        "id": "_Bi0kCfVLLLK"
      },
      "source": [
        "And we've found a mislabel! Naive Bayes doesn't consider the relationship *between* words, which is why it wasn't able to catch the fact that \"no\" acted as a negator to the word `headache`. Instead, it read two negative indicators and classified it as such. \n",
        "\n",
        "Given that, we can probably expect a less than perfect accuracy rate."
      ]
    },
    {
      "cell_type": "markdown",
      "metadata": {
        "id": "Op3mA-GeLLLK"
      },
      "source": [
        "### Accuracy\n",
        "\n",
        "Just like `scikit-learn`, nltk has a built in method that computes the accuracy rate of our model:"
      ]
    },
    {
      "cell_type": "code",
      "execution_count": 25,
      "metadata": {
        "id": "XgNCHWxnLLLK",
        "outputId": "1f97d859-bdba-4737-e33f-aa71ee1f2ad6",
        "colab": {
          "base_uri": "https://localhost:8080/"
        }
      },
      "outputs": [
        {
          "output_type": "stream",
          "name": "stdout",
          "text": [
            "0.8308457711442786\n"
          ]
        }
      ],
      "source": [
        "from nltk.classify.util import accuracy\n",
        "print(accuracy(classifier, test))"
      ]
    },
    {
      "cell_type": "markdown",
      "metadata": {
        "id": "m4IVOwrILLLK"
      },
      "source": [
        "And we have improved performance! Awesome. Now, 83% is fairly solid, but it could be better! If you look at the actual data, you'll see that the data is kind of messy - there are typos, abbreviations, grammatical errors of all sorts. So how do we handle that? Can we handle that? Stay tuned for more soon. "
      ]
    },
    {
      "cell_type": "markdown",
      "metadata": {
        "id": "XdtamDGmLLLK"
      },
      "source": [
        "# 3. Validating Classifier Output using Count and Visualization"
      ]
    },
    {
      "cell_type": "code",
      "execution_count": 29,
      "metadata": {
        "id": "XgO4rZhSLLLL",
        "outputId": "f6f6a155-3b71-495e-9aa3-f50f6fc7af6a",
        "colab": {
          "base_uri": "https://localhost:8080/"
        }
      },
      "outputs": [
        {
          "output_type": "stream",
          "name": "stdout",
          "text": [
            "[nltk_data] Downloading package stopwords to /root/nltk_data...\n",
            "[nltk_data]   Package stopwords is already up-to-date!\n",
            "[nltk_data] Downloading package punkt to /root/nltk_data...\n",
            "[nltk_data]   Package punkt is already up-to-date!\n"
          ]
        }
      ],
      "source": [
        "nltk.download('stopwords')\n",
        "nltk.download('punkt')\n",
        "from nltk.corpus import stopwords"
      ]
    },
    {
      "cell_type": "markdown",
      "metadata": {
        "id": "RNYfLie_LLLL"
      },
      "source": [
        "#### In this case we are validating text_pos (positive data) from the above examples"
      ]
    },
    {
      "cell_type": "code",
      "execution_count": 30,
      "metadata": {
        "id": "s1hlQV5aLLLL"
      },
      "outputs": [],
      "source": [
        "file1 = []\n",
        "with open(\"/content/textsample1.txt\") as f:\n",
        "    for i in f:\n",
        "        file1.append(i) \n",
        "\n",
        "w1 = nltk.word_tokenize(str(file1))"
      ]
    },
    {
      "cell_type": "code",
      "source": [
        "file2 = []\n",
        "with open(\"/content/textsample2.txt\") as f:\n",
        "    for i in f:\n",
        "        file2.append(i) \n",
        "\n",
        "w2 = nltk.word_tokenize(str(file2))"
      ],
      "metadata": {
        "id": "cYsnYnotk_kP"
      },
      "execution_count": 31,
      "outputs": []
    },
    {
      "cell_type": "markdown",
      "metadata": {
        "id": "fE7BR1ouLLLL"
      },
      "source": [
        "### Preprocessing data to remove stop words"
      ]
    },
    {
      "cell_type": "code",
      "execution_count": 40,
      "metadata": {
        "id": "oGdAXGt4LLLL"
      },
      "outputs": [],
      "source": [
        "default_stopwords = stopwords.words('english')\n",
        "default_stopwords.extend(['...','\\'re','n\\'t','\\'the','\\'this','\\'it','n\\'',\n",
        "                         'it\\\\','\\'1\\\\ti','\\'0\\\\ti','\\'0\\\\tda','.\\\\n','..\\\\n',\n",
        "                         '1\\\\ti','\\'1\\\\tthe','\\n'])"
      ]
    },
    {
      "cell_type": "code",
      "execution_count": 41,
      "metadata": {
        "id": "omA3bRHLLLLL"
      },
      "outputs": [],
      "source": [
        "#Remove single-character tokens (mostly punctuation)\n",
        "w1 = [word for word in w1 if len(word) > 2]\n",
        "w2 = [word for word in w2 if len(word) > 2]\n",
        "\n",
        "#Remove numbers\n",
        "w1 = [word for word in w1 if not word.isnumeric()]\n",
        "w2 = [word for word in w2 if not word.isnumeric()]\n",
        "\n",
        "# Lowercase all words (default_stopwords are lowercase too)\n",
        "w1 = [word.lower() for word in w1]\n",
        "w2 = [word.lower() for word in w2]\n",
        "\n",
        "# Remove stopwords\n",
        "w1 = [word for word in w1 if word not in default_stopwords]\n",
        "w2 = [word for word in w2 if word not in default_stopwords]"
      ]
    },
    {
      "cell_type": "markdown",
      "metadata": {
        "id": "9kxoEDYaLLLL"
      },
      "source": [
        "### Display Frequency count for dataset"
      ]
    },
    {
      "cell_type": "code",
      "execution_count": 43,
      "metadata": {
        "scrolled": true,
        "id": "IpGy36iYLLLL",
        "outputId": "95bf92bc-97d3-4499-fbe1-baedf7675a4b",
        "colab": {
          "base_uri": "https://localhost:8080/"
        }
      },
      "outputs": [
        {
          "output_type": "stream",
          "name": "stdout",
          "text": [
            "love;1446\n",
            "vinci;1000\n",
            "harry;986\n",
            "like;950\n",
            "awesome;894\n",
            "code;888\n",
            "impossible;828\n",
            "mountain;793\n",
            "mission;776\n",
            "brokeback;711\n"
          ]
        }
      ],
      "source": [
        "# Calculate frequency distribution for textfile_1\n",
        "f1 = nltk.FreqDist(w1)\n",
        "\n",
        "# Output top 10 words\n",
        "\n",
        "for word, frequency in f1.most_common(10):\n",
        "    print(u'{};{}'.format(word, frequency))"
      ]
    },
    {
      "cell_type": "code",
      "source": [
        "# Calculate frequency distribution for textfile_2\n",
        "f2 = nltk.FreqDist(w2)\n",
        "\n",
        "# Output top 10 words\n",
        "\n",
        "for word, frequency in f2.most_common(10):\n",
        "    print(u'{};{}'.format(word, frequency))"
      ],
      "metadata": {
        "colab": {
          "base_uri": "https://localhost:8080/"
        },
        "id": "25KlCt9wl_Ei",
        "outputId": "c39772c7-d826-4e49-a04e-ca59164e8db4"
      },
      "execution_count": 44,
      "outputs": [
        {
          "output_type": "stream",
          "name": "stdout",
          "text": [
            "vinci;1003\n",
            "code;975\n",
            "mountain;906\n",
            "harry;894\n",
            "potter;795\n",
            "brokeback;776\n",
            "hate;571\n",
            "sucked;484\n",
            "sucks;405\n",
            "movie;373\n"
          ]
        }
      ]
    },
    {
      "cell_type": "markdown",
      "metadata": {
        "id": "rUZFKJ86LLLL"
      },
      "source": [
        "### Visualizing the Frequency Count"
      ]
    },
    {
      "cell_type": "code",
      "execution_count": null,
      "metadata": {
        "id": "fGO0RLRWLLLM"
      },
      "outputs": [],
      "source": [
        "import pip\n",
        "pip.main(['install', '--user', 'wordcloud'])"
      ]
    },
    {
      "cell_type": "markdown",
      "metadata": {
        "id": "7ZrPM-EjLLLM"
      },
      "source": [
        "If there's an error in the above code, it might be because the pip package is out of date. In that case, install \"wordcloud\" package using pip command on your commandline:\n",
        "```pip3 install wordcloud```"
      ]
    },
    {
      "cell_type": "code",
      "execution_count": null,
      "metadata": {
        "id": "ap0qZdx8LLLM",
        "outputId": "c7012dc0-a440-4f5a-a12f-a1e1e4d215a0"
      },
      "outputs": [
        {
          "data": {
            "text/plain": [
              "<wordcloud.wordcloud.WordCloud at 0x1a20926f90>"
            ]
          },
          "execution_count": 32,
          "metadata": {},
          "output_type": "execute_result"
        }
      ],
      "source": [
        "from wordcloud import WordCloud\n",
        "cloud_1 = WordCloud(width=800, height=400, background_color='white')\n",
        "wordcloud.generate_from_frequencies(frequencies=f1)"
      ]
    },
    {
      "cell_type": "code",
      "execution_count": null,
      "metadata": {
        "id": "rm_gSiJcLLLM",
        "outputId": "47e4c68d-1bd1-46aa-c762-18de59b31a86"
      },
      "outputs": [
        {
          "data": {
            "text/plain": [
              "(-0.5, 799.5, 399.5, -0.5)"
            ]
          },
          "execution_count": 33,
          "metadata": {},
          "output_type": "execute_result"
        },
        {
          "data": {
            "image/png": "[encoded data removed]",
            "text/plain": [
              "<Figure size 432x288 with 1 Axes>"
            ]
          },
          "metadata": {
            "needs_background": "light"
          },
          "output_type": "display_data"
        }
      ],
      "source": [
        "import matplotlib.pyplot as plt\n",
        "plt.imshow(wordcloud, interpolation='bilinear')\n",
        "plt.axis(\"off\")"
      ]
    },
    {
      "cell_type": "markdown",
      "source": [
        "# Complete Your Assignment Questions Here"
      ],
      "metadata": {
        "id": "lWXpweHTf3KW"
      }
    },
    {
      "cell_type": "markdown",
      "source": [
        "# QUESTION-1"
      ],
      "metadata": {
        "id": "EoNm4I6Ji9Fe"
      }
    },
    {
      "cell_type": "code",
      "source": [
        "##Naive Bayes Classification on Text_1\n",
        "positive=0\n",
        "negative=0\n",
        "with io.open(\"/content/textsample1.txt\", 'r+', encoding='utf-8') as file_1:\n",
        "    for i in file_1: \n",
        "        pred=classifier.classify(format_sentence(i))\n",
        "        if pred=='pos':\n",
        "            positive=positive+1\n",
        "        elif pred=='neg':\n",
        "            negative=negative+1\n",
        "if negative>positive:\n",
        "    print('negative_class')\n",
        "else:\n",
        "    print('positive_class')"
      ],
      "metadata": {
        "colab": {
          "base_uri": "https://localhost:8080/"
        },
        "id": "0s1EFFv1i-tI",
        "outputId": "10d7fc1b-ad2a-4d7b-81db-d468e9c26f55"
      },
      "execution_count": 27,
      "outputs": [
        {
          "output_type": "stream",
          "name": "stdout",
          "text": [
            "positive_class\n"
          ]
        }
      ]
    },
    {
      "cell_type": "code",
      "source": [
        "##Naive Bayes Classification on Text_2\n",
        "positive=0\n",
        "negative=0\n",
        "with io.open(\"/content/textsample2.txt\", 'r+', encoding='utf-8') as file_1:\n",
        "    for i in file_1: \n",
        "        pred=classifier.classify(format_sentence(i))\n",
        "        if pred=='pos':\n",
        "            positive=positive+1\n",
        "        elif pred=='neg':\n",
        "            negative=negative+1\n",
        "if negative>positive:\n",
        "    print('negative_class')\n",
        "else:\n",
        "    print('positive_class')"
      ],
      "metadata": {
        "colab": {
          "base_uri": "https://localhost:8080/"
        },
        "id": "nCzF12iLi7fQ",
        "outputId": "f1f00dc4-a38b-401e-f4f7-656f158fd38c"
      },
      "execution_count": 28,
      "outputs": [
        {
          "output_type": "stream",
          "name": "stdout",
          "text": [
            "negative_class\n"
          ]
        }
      ]
    },
    {
      "cell_type": "markdown",
      "source": [
        "# Question-2(Frequency Count and Word Cloud)"
      ],
      "metadata": {
        "id": "3Q5ED6E7kJ2z"
      }
    },
    {
      "cell_type": "code",
      "source": [
        "# Calculate frequency distribution for textfile_1\n",
        "f1 = nltk.FreqDist(w1)\n",
        "\n",
        "# Output top 10 words\n",
        "\n",
        "for word, frequency in f1.most_common(10):\n",
        "    print(u'{};{}'.format(word, frequency))"
      ],
      "metadata": {
        "colab": {
          "base_uri": "https://localhost:8080/"
        },
        "id": "7AVufYEJkNQ8",
        "outputId": "09cbe2e3-d497-4ee3-b2c3-bc46292a5638"
      },
      "execution_count": 45,
      "outputs": [
        {
          "output_type": "stream",
          "name": "stdout",
          "text": [
            "love;1446\n",
            "vinci;1000\n",
            "harry;986\n",
            "like;950\n",
            "awesome;894\n",
            "code;888\n",
            "impossible;828\n",
            "mountain;793\n",
            "mission;776\n",
            "brokeback;711\n"
          ]
        }
      ]
    },
    {
      "cell_type": "code",
      "source": [
        "# Calculate frequency distribution for textfile_2\n",
        "f2 = nltk.FreqDist(w2)\n",
        "\n",
        "# Output top 10 words\n",
        "\n",
        "for word, frequency in f2.most_common(10):\n",
        "    print(u'{};{}'.format(word, frequency))"
      ],
      "metadata": {
        "colab": {
          "base_uri": "https://localhost:8080/"
        },
        "id": "EcS3a6mHi7lD",
        "outputId": "324a9a4e-3409-4266-b40e-a2dd11507f5c"
      },
      "execution_count": 46,
      "outputs": [
        {
          "output_type": "stream",
          "name": "stdout",
          "text": [
            "vinci;1003\n",
            "code;975\n",
            "mountain;906\n",
            "harry;894\n",
            "potter;795\n",
            "brokeback;776\n",
            "hate;571\n",
            "sucked;484\n",
            "sucks;405\n",
            "movie;373\n"
          ]
        }
      ]
    },
    {
      "cell_type": "code",
      "source": [
        "from wordcloud import WordCloud\n",
        "cloud_1 = WordCloud(width=800, height=400, background_color='white')\n",
        "cloud_1.generate_from_frequencies(frequencies=f1)"
      ],
      "metadata": {
        "colab": {
          "base_uri": "https://localhost:8080/"
        },
        "id": "x9n_i7k-i7n0",
        "outputId": "84b5fddb-1d0e-4a06-ebec-035bb2c10223"
      },
      "execution_count": 47,
      "outputs": [
        {
          "output_type": "execute_result",
          "data": {
            "text/plain": [
              "<wordcloud.wordcloud.WordCloud at 0x7f6b628ec310>"
            ]
          },
          "metadata": {},
          "execution_count": 47
        }
      ]
    },
    {
      "cell_type": "code",
      "source": [
        "from wordcloud import WordCloud\n",
        "cloud_2 = WordCloud(width=800, height=400, background_color='white')\n",
        "cloud_2.generate_from_frequencies(frequencies=f2)"
      ],
      "metadata": {
        "colab": {
          "base_uri": "https://localhost:8080/"
        },
        "id": "fWkqAxaen6cE",
        "outputId": "4c0e8503-fbbe-478a-d674-1132d289af4a"
      },
      "execution_count": 48,
      "outputs": [
        {
          "output_type": "execute_result",
          "data": {
            "text/plain": [
              "<wordcloud.wordcloud.WordCloud at 0x7f6b628fd550>"
            ]
          },
          "metadata": {},
          "execution_count": 48
        }
      ]
    },
    {
      "cell_type": "code",
      "source": [
        "import matplotlib.pyplot as plt\n",
        "plt.imshow(cloud_1, interpolation='bilinear')\n",
        "plt.axis(\"off\")"
      ],
      "metadata": {
        "colab": {
          "base_uri": "https://localhost:8080/",
          "height": 215
        },
        "id": "xQIgwKM5n6e3",
        "outputId": "1e20954f-3088-4b4f-8124-78a3b137e604"
      },
      "execution_count": 49,
      "outputs": [
        {
          "output_type": "execute_result",
          "data": {
            "text/plain": [
              "(-0.5, 799.5, 399.5, -0.5)"
            ]
          },
          "metadata": {},
          "execution_count": 49
        },
        {
          "output_type": "display_data",
          "data": {
            "text/plain": [
              "<Figure size 432x288 with 1 Axes>"
            ],
            "image/png": "[encoded data removed]"
          },
          "metadata": {
            "needs_background": "light"
          }
        }
      ]
    },
    {
      "cell_type": "code",
      "source": [
        "import matplotlib.pyplot as plt\n",
        "plt.imshow(cloud_2, interpolation='bilinear')\n",
        "plt.axis(\"off\")"
      ],
      "metadata": {
        "colab": {
          "base_uri": "https://localhost:8080/",
          "height": 215
        },
        "id": "dgZZXCstosbP",
        "outputId": "c45e598e-c1dc-4513-ec30-042e49dbb322"
      },
      "execution_count": 50,
      "outputs": [
        {
          "output_type": "execute_result",
          "data": {
            "text/plain": [
              "(-0.5, 799.5, 399.5, -0.5)"
            ]
          },
          "metadata": {},
          "execution_count": 50
        },
        {
          "output_type": "display_data",
          "data": {
            "text/plain": [
              "<Figure size 432x288 with 1 Axes>"
            ],
            "image/png": "[encoded data removed]"
          },
          "metadata": {
            "needs_background": "light"
          }
        }
      ]
    },
    {
      "cell_type": "markdown",
      "source": [
        "### Question 3)Analysis from Results of 1 and 2"
      ],
      "metadata": {
        "id": "r2wp3y9lo3mL"
      }
    },
    {
      "cell_type": "markdown",
      "source": [
        "From 1 we can infer that the first text is classified as positive text in which it contains the positive words(love,awesome,like) and from 2 it is clear that count is more for positive words and from the world cloud as the count is  more for positive words it appears to be larger in size based on the count.From 1 and 2 we can infer that the **text_1 can be classified as positive**"
      ],
      "metadata": {
        "id": "Qe1wMJ-lpBAC"
      }
    },
    {
      "cell_type": "markdown",
      "source": [
        "From 1 we can infer that the second text is classified as negative text in which it contains the negative words(hate,stupid,sucked) and from 2 it is clear that count is more for negative words and from the world cloud as the count is more for negative words it appears to be larger in size based on the count.From 1 and 2 we can infer that the **text_2 is classified as negative**"
      ],
      "metadata": {
        "id": "tukUkqbtqLAm"
      }
    },
    {
      "cell_type": "code",
      "source": [
        ""
      ],
      "metadata": {
        "id": "clL7LyYwqaoT"
      },
      "execution_count": null,
      "outputs": []
    },
    {
      "cell_type": "markdown",
      "source": [
        "## Question4)Sentiment for text_1"
      ],
      "metadata": {
        "id": "NYX9hnJBXtJb"
      }
    },
    {
      "cell_type": "code",
      "source": [
        "import re\n",
        "import nltk\n",
        "from sklearn.feature_extraction.text import CountVectorizer  \n",
        "from sklearn.model_selection import train_test_split "
      ],
      "metadata": {
        "id": "2Kkc2Yx3f-6r"
      },
      "execution_count": 56,
      "outputs": []
    },
    {
      "cell_type": "code",
      "source": [
        "import pandas as pd"
      ],
      "metadata": {
        "id": "K4h8chn_Yia3"
      },
      "execution_count": 57,
      "outputs": []
    },
    {
      "cell_type": "code",
      "source": [
        "df1=pd.read_csv(\"/content/textsample1.txt\",sep='\\t',header=None)"
      ],
      "metadata": {
        "id": "UtBfKJjwYPS4"
      },
      "execution_count": 58,
      "outputs": []
    },
    {
      "cell_type": "code",
      "source": [
        "df1.head()"
      ],
      "metadata": {
        "colab": {
          "base_uri": "https://localhost:8080/",
          "height": 206
        },
        "id": "HOLQ7pBLwxH1",
        "outputId": "3c36bbbf-ac7b-448d-9930-e5aefacb339c"
      },
      "execution_count": 59,
      "outputs": [
        {
          "output_type": "execute_result",
          "data": {
            "text/plain": [
              "   0                                                  1\n",
              "0  1            The Da Vinci Code book is just awesome.\n",
              "1  1  this was the first clive cussler i've ever rea...\n",
              "2  1                   i liked the Da Vinci Code a lot.\n",
              "3  1                   i liked the Da Vinci Code a lot.\n",
              "4  1  I liked the Da Vinci Code but it ultimatly did..."
            ],
            "text/html": [
              "\n",
              "  <div id=\"df-d8c40aca-fc53-433d-982d-cfecff6d97a2\">\n",
              "    <div class=\"colab-df-container\">\n",
              "      <div>\n",
              "<style scoped>\n",
              "    .dataframe tbody tr th:only-of-type {\n",
              "        vertical-align: middle;\n",
              "    }\n",
              "\n",
              "    .dataframe tbody tr th {\n",
              "        vertical-align: top;\n",
              "    }\n",
              "\n",
              "    .dataframe thead th {\n",
              "        text-align: right;\n",
              "    }\n",
              "</style>\n",
              "<table border=\"1\" class=\"dataframe\">\n",
              "  <thead>\n",
              "    <tr style=\"text-align: right;\">\n",
              "      <th></th>\n",
              "      <th>0</th>\n",
              "      <th>1</th>\n",
              "    </tr>\n",
              "  </thead>\n",
              "  <tbody>\n",
              "    <tr>\n",
              "      <th>0</th>\n",
              "      <td>1</td>\n",
              "      <td>The Da Vinci Code book is just awesome.</td>\n",
              "    </tr>\n",
              "    <tr>\n",
              "      <th>1</th>\n",
              "      <td>1</td>\n",
              "      <td>this was the first clive cussler i've ever rea...</td>\n",
              "    </tr>\n",
              "    <tr>\n",
              "      <th>2</th>\n",
              "      <td>1</td>\n",
              "      <td>i liked the Da Vinci Code a lot.</td>\n",
              "    </tr>\n",
              "    <tr>\n",
              "      <th>3</th>\n",
              "      <td>1</td>\n",
              "      <td>i liked the Da Vinci Code a lot.</td>\n",
              "    </tr>\n",
              "    <tr>\n",
              "      <th>4</th>\n",
              "      <td>1</td>\n",
              "      <td>I liked the Da Vinci Code but it ultimatly did...</td>\n",
              "    </tr>\n",
              "  </tbody>\n",
              "</table>\n",
              "</div>\n",
              "      <button class=\"colab-df-convert\" onclick=\"convertToInteractive('df-d8c40aca-fc53-433d-982d-cfecff6d97a2')\"\n",
              "              title=\"Convert this dataframe to an interactive table.\"\n",
              "              style=\"display:none;\">\n",
              "        \n",
              "  <svg xmlns=\"http://www.w3.org/2000/svg\" height=\"24px\"viewBox=\"0 0 24 24\"\n",
              "       width=\"24px\">\n",
              "    <path d=\"M0 0h24v24H0V0z\" fill=\"none\"/>\n",
              "    <path d=\"M18.56 5.44l.94 2.06.94-2.06 2.06-.94-2.06-.94-.94-2.06-.94 2.06-2.06.94zm-11 1L8.5 8.5l.94-2.06 2.06-.94-2.06-.94L8.5 2.5l-.94 2.06-2.06.94zm10 10l.94 2.06.94-2.06 2.06-.94-2.06-.94-.94-2.06-.94 2.06-2.06.94z\"/><path d=\"M17.41 7.96l-1.37-1.37c-.4-.4-.92-.59-1.43-.59-.52 0-1.04.2-1.43.59L10.3 9.45l-7.72 7.72c-.78.78-.78 2.05 0 2.83L4 21.41c.39.39.9.59 1.41.59.51 0 1.02-.2 1.41-.59l7.78-7.78 2.81-2.81c.8-.78.8-2.07 0-2.86zM5.41 20L4 18.59l7.72-7.72 1.47 1.35L5.41 20z\"/>\n",
              "  </svg>\n",
              "      </button>\n",
              "      \n",
              "  <style>\n",
              "    .colab-df-container {\n",
              "      display:flex;\n",
              "      flex-wrap:wrap;\n",
              "      gap: 12px;\n",
              "    }\n",
              "\n",
              "    .colab-df-convert {\n",
              "      background-color: #E8F0FE;\n",
              "      border: none;\n",
              "      border-radius: 50%;\n",
              "      cursor: pointer;\n",
              "      display: none;\n",
              "      fill: #1967D2;\n",
              "      height: 32px;\n",
              "      padding: 0 0 0 0;\n",
              "      width: 32px;\n",
              "    }\n",
              "\n",
              "    .colab-df-convert:hover {\n",
              "      background-color: #E2EBFA;\n",
              "      box-shadow: 0px 1px 2px rgba(60, 64, 67, 0.3), 0px 1px 3px 1px rgba(60, 64, 67, 0.15);\n",
              "      fill: #174EA6;\n",
              "    }\n",
              "\n",
              "    [theme=dark] .colab-df-convert {\n",
              "      background-color: #3B4455;\n",
              "      fill: #D2E3FC;\n",
              "    }\n",
              "\n",
              "    [theme=dark] .colab-df-convert:hover {\n",
              "      background-color: #434B5C;\n",
              "      box-shadow: 0px 1px 3px 1px rgba(0, 0, 0, 0.15);\n",
              "      filter: drop-shadow(0px 1px 2px rgba(0, 0, 0, 0.3));\n",
              "      fill: #FFFFFF;\n",
              "    }\n",
              "  </style>\n",
              "\n",
              "      <script>\n",
              "        const buttonEl =\n",
              "          document.querySelector('#df-d8c40aca-fc53-433d-982d-cfecff6d97a2 button.colab-df-convert');\n",
              "        buttonEl.style.display =\n",
              "          google.colab.kernel.accessAllowed ? 'block' : 'none';\n",
              "\n",
              "        async function convertToInteractive(key) {\n",
              "          const element = document.querySelector('#df-d8c40aca-fc53-433d-982d-cfecff6d97a2');\n",
              "          const dataTable =\n",
              "            await google.colab.kernel.invokeFunction('convertToInteractive',\n",
              "                                                     [key], {});\n",
              "          if (!dataTable) return;\n",
              "\n",
              "          const docLinkHtml = 'Like what you see? Visit the ' +\n",
              "            '<a target=\"_blank\" href=https://colab.research.google.com/notebooks/data_table.ipynb>data table notebook</a>'\n",
              "            + ' to learn more about interactive tables.';\n",
              "          element.innerHTML = '';\n",
              "          dataTable['output_type'] = 'display_data';\n",
              "          await google.colab.output.renderOutput(dataTable, element);\n",
              "          const docLink = document.createElement('div');\n",
              "          docLink.innerHTML = docLinkHtml;\n",
              "          element.appendChild(docLink);\n",
              "        }\n",
              "      </script>\n",
              "    </div>\n",
              "  </div>\n",
              "  "
            ]
          },
          "metadata": {},
          "execution_count": 59
        }
      ]
    },
    {
      "cell_type": "code",
      "source": [
        "df1 = df1.rename(columns={0: 'Class',1:'Review'})"
      ],
      "metadata": {
        "id": "kNpvOa3zYqoM"
      },
      "execution_count": 60,
      "outputs": []
    },
    {
      "cell_type": "code",
      "source": [
        "import re\n",
        "import string\n",
        "def round1_clean(text):\n",
        "    text = text.lower()\n",
        "    text = re.sub('\\[.*?\\]', '', text)\n",
        "    text = re.sub('[%s]' % re.escape(string.punctuation), '', text)\n",
        "    text = re.sub('\\w*\\d\\w*', '', text)\n",
        "    return text\n",
        "clean1=lambda x:round1_clean(x)"
      ],
      "metadata": {
        "id": "m9Nw403wY-Fs"
      },
      "execution_count": 61,
      "outputs": []
    },
    {
      "cell_type": "code",
      "source": [
        "df1['clean'] = pd.DataFrame(df1.Review.apply(clean1))"
      ],
      "metadata": {
        "id": "Qp7N-ALZZBOs"
      },
      "execution_count": 62,
      "outputs": []
    },
    {
      "cell_type": "code",
      "source": [
        "def clean_2(text):\n",
        "    text = re.sub('[‘’“”…]', '', text)\n",
        "    text = re.sub('\\n', '', text)\n",
        "    return text\n",
        "\n",
        "clean2 = lambda x: clean_2(x)"
      ],
      "metadata": {
        "id": "yCENsUufZGsE"
      },
      "execution_count": 65,
      "outputs": []
    },
    {
      "cell_type": "code",
      "source": [
        "df1['clean'] = pd.DataFrame(df1.clean.apply(clean_2))\n"
      ],
      "metadata": {
        "id": "9VTdCqi-ZJ7k"
      },
      "execution_count": 66,
      "outputs": []
    },
    {
      "cell_type": "code",
      "source": [
        "from nltk.tokenize import RegexpTokenizer   ##Tokenization\n",
        "regexp = RegexpTokenizer('\\w+')\n",
        "df1['token']=df1['clean'].apply(regexp.tokenize)\n",
        "df1.head(5)"
      ],
      "metadata": {
        "colab": {
          "base_uri": "https://localhost:8080/",
          "height": 302
        },
        "id": "N07ersbtZPtn",
        "outputId": "42d4938d-e927-4e32-ce6c-da20557fead4"
      },
      "execution_count": 68,
      "outputs": [
        {
          "output_type": "execute_result",
          "data": {
            "text/plain": [
              "   Class                                             Review  \\\n",
              "0      1            The Da Vinci Code book is just awesome.   \n",
              "1      1  this was the first clive cussler i've ever rea...   \n",
              "2      1                   i liked the Da Vinci Code a lot.   \n",
              "3      1                   i liked the Da Vinci Code a lot.   \n",
              "4      1  I liked the Da Vinci Code but it ultimatly did...   \n",
              "\n",
              "                                               clean  \\\n",
              "0             the da vinci code book is just awesome   \n",
              "1  this was the first clive cussler ive ever read...   \n",
              "2                    i liked the da vinci code a lot   \n",
              "3                    i liked the da vinci code a lot   \n",
              "4  i liked the da vinci code but it ultimatly did...   \n",
              "\n",
              "                                               token  \n",
              "0    [the, da, vinci, code, book, is, just, awesome]  \n",
              "1  [this, was, the, first, clive, cussler, ive, e...  \n",
              "2           [i, liked, the, da, vinci, code, a, lot]  \n",
              "3           [i, liked, the, da, vinci, code, a, lot]  \n",
              "4  [i, liked, the, da, vinci, code, but, it, ulti...  "
            ],
            "text/html": [
              "\n",
              "  <div id=\"df-593ccbb7-b6c8-4cfe-a872-fe276b274207\">\n",
              "    <div class=\"colab-df-container\">\n",
              "      <div>\n",
              "<style scoped>\n",
              "    .dataframe tbody tr th:only-of-type {\n",
              "        vertical-align: middle;\n",
              "    }\n",
              "\n",
              "    .dataframe tbody tr th {\n",
              "        vertical-align: top;\n",
              "    }\n",
              "\n",
              "    .dataframe thead th {\n",
              "        text-align: right;\n",
              "    }\n",
              "</style>\n",
              "<table border=\"1\" class=\"dataframe\">\n",
              "  <thead>\n",
              "    <tr style=\"text-align: right;\">\n",
              "      <th></th>\n",
              "      <th>Class</th>\n",
              "      <th>Review</th>\n",
              "      <th>clean</th>\n",
              "      <th>token</th>\n",
              "    </tr>\n",
              "  </thead>\n",
              "  <tbody>\n",
              "    <tr>\n",
              "      <th>0</th>\n",
              "      <td>1</td>\n",
              "      <td>The Da Vinci Code book is just awesome.</td>\n",
              "      <td>the da vinci code book is just awesome</td>\n",
              "      <td>[the, da, vinci, code, book, is, just, awesome]</td>\n",
              "    </tr>\n",
              "    <tr>\n",
              "      <th>1</th>\n",
              "      <td>1</td>\n",
              "      <td>this was the first clive cussler i've ever rea...</td>\n",
              "      <td>this was the first clive cussler ive ever read...</td>\n",
              "      <td>[this, was, the, first, clive, cussler, ive, e...</td>\n",
              "    </tr>\n",
              "    <tr>\n",
              "      <th>2</th>\n",
              "      <td>1</td>\n",
              "      <td>i liked the Da Vinci Code a lot.</td>\n",
              "      <td>i liked the da vinci code a lot</td>\n",
              "      <td>[i, liked, the, da, vinci, code, a, lot]</td>\n",
              "    </tr>\n",
              "    <tr>\n",
              "      <th>3</th>\n",
              "      <td>1</td>\n",
              "      <td>i liked the Da Vinci Code a lot.</td>\n",
              "      <td>i liked the da vinci code a lot</td>\n",
              "      <td>[i, liked, the, da, vinci, code, a, lot]</td>\n",
              "    </tr>\n",
              "    <tr>\n",
              "      <th>4</th>\n",
              "      <td>1</td>\n",
              "      <td>I liked the Da Vinci Code but it ultimatly did...</td>\n",
              "      <td>i liked the da vinci code but it ultimatly did...</td>\n",
              "      <td>[i, liked, the, da, vinci, code, but, it, ulti...</td>\n",
              "    </tr>\n",
              "  </tbody>\n",
              "</table>\n",
              "</div>\n",
              "      <button class=\"colab-df-convert\" onclick=\"convertToInteractive('df-593ccbb7-b6c8-4cfe-a872-fe276b274207')\"\n",
              "              title=\"Convert this dataframe to an interactive table.\"\n",
              "              style=\"display:none;\">\n",
              "        \n",
              "  <svg xmlns=\"http://www.w3.org/2000/svg\" height=\"24px\"viewBox=\"0 0 24 24\"\n",
              "       width=\"24px\">\n",
              "    <path d=\"M0 0h24v24H0V0z\" fill=\"none\"/>\n",
              "    <path d=\"M18.56 5.44l.94 2.06.94-2.06 2.06-.94-2.06-.94-.94-2.06-.94 2.06-2.06.94zm-11 1L8.5 8.5l.94-2.06 2.06-.94-2.06-.94L8.5 2.5l-.94 2.06-2.06.94zm10 10l.94 2.06.94-2.06 2.06-.94-2.06-.94-.94-2.06-.94 2.06-2.06.94z\"/><path d=\"M17.41 7.96l-1.37-1.37c-.4-.4-.92-.59-1.43-.59-.52 0-1.04.2-1.43.59L10.3 9.45l-7.72 7.72c-.78.78-.78 2.05 0 2.83L4 21.41c.39.39.9.59 1.41.59.51 0 1.02-.2 1.41-.59l7.78-7.78 2.81-2.81c.8-.78.8-2.07 0-2.86zM5.41 20L4 18.59l7.72-7.72 1.47 1.35L5.41 20z\"/>\n",
              "  </svg>\n",
              "      </button>\n",
              "      \n",
              "  <style>\n",
              "    .colab-df-container {\n",
              "      display:flex;\n",
              "      flex-wrap:wrap;\n",
              "      gap: 12px;\n",
              "    }\n",
              "\n",
              "    .colab-df-convert {\n",
              "      background-color: #E8F0FE;\n",
              "      border: none;\n",
              "      border-radius: 50%;\n",
              "      cursor: pointer;\n",
              "      display: none;\n",
              "      fill: #1967D2;\n",
              "      height: 32px;\n",
              "      padding: 0 0 0 0;\n",
              "      width: 32px;\n",
              "    }\n",
              "\n",
              "    .colab-df-convert:hover {\n",
              "      background-color: #E2EBFA;\n",
              "      box-shadow: 0px 1px 2px rgba(60, 64, 67, 0.3), 0px 1px 3px 1px rgba(60, 64, 67, 0.15);\n",
              "      fill: #174EA6;\n",
              "    }\n",
              "\n",
              "    [theme=dark] .colab-df-convert {\n",
              "      background-color: #3B4455;\n",
              "      fill: #D2E3FC;\n",
              "    }\n",
              "\n",
              "    [theme=dark] .colab-df-convert:hover {\n",
              "      background-color: #434B5C;\n",
              "      box-shadow: 0px 1px 3px 1px rgba(0, 0, 0, 0.15);\n",
              "      filter: drop-shadow(0px 1px 2px rgba(0, 0, 0, 0.3));\n",
              "      fill: #FFFFFF;\n",
              "    }\n",
              "  </style>\n",
              "\n",
              "      <script>\n",
              "        const buttonEl =\n",
              "          document.querySelector('#df-593ccbb7-b6c8-4cfe-a872-fe276b274207 button.colab-df-convert');\n",
              "        buttonEl.style.display =\n",
              "          google.colab.kernel.accessAllowed ? 'block' : 'none';\n",
              "\n",
              "        async function convertToInteractive(key) {\n",
              "          const element = document.querySelector('#df-593ccbb7-b6c8-4cfe-a872-fe276b274207');\n",
              "          const dataTable =\n",
              "            await google.colab.kernel.invokeFunction('convertToInteractive',\n",
              "                                                     [key], {});\n",
              "          if (!dataTable) return;\n",
              "\n",
              "          const docLinkHtml = 'Like what you see? Visit the ' +\n",
              "            '<a target=\"_blank\" href=https://colab.research.google.com/notebooks/data_table.ipynb>data table notebook</a>'\n",
              "            + ' to learn more about interactive tables.';\n",
              "          element.innerHTML = '';\n",
              "          dataTable['output_type'] = 'display_data';\n",
              "          await google.colab.output.renderOutput(dataTable, element);\n",
              "          const docLink = document.createElement('div');\n",
              "          docLink.innerHTML = docLinkHtml;\n",
              "          element.appendChild(docLink);\n",
              "        }\n",
              "      </script>\n",
              "    </div>\n",
              "  </div>\n",
              "  "
            ]
          },
          "metadata": {},
          "execution_count": 68
        }
      ]
    },
    {
      "cell_type": "code",
      "source": [
        "##removing stop words and joining the words\n",
        "import nltk\n",
        "import nltk\n",
        "nltk.download('stopwords')\n",
        "from nltk.corpus import stopwords\n",
        "stopwords = nltk.corpus.stopwords.words(\"english\")  ##Removal of stop words\n",
        "df1['token'] = df1['token'].apply(lambda x: [item for item in x if item not in stopwords])\n",
        "df1['token'] = df1['token'].apply(lambda x: ' '.join([item for item in x if len(item)>2]))"
      ],
      "metadata": {
        "colab": {
          "base_uri": "https://localhost:8080/"
        },
        "id": "L8VVa5dlZdqz",
        "outputId": "ad45afb0-7f4a-4c22-904c-3e3684b72f44"
      },
      "execution_count": 69,
      "outputs": [
        {
          "output_type": "stream",
          "name": "stdout",
          "text": [
            "[nltk_data] Downloading package stopwords to /root/nltk_data...\n",
            "[nltk_data]   Package stopwords is already up-to-date!\n"
          ]
        }
      ]
    },
    {
      "cell_type": "code",
      "source": [
        "import nltk\n",
        "nltk.download('wordnet')\n",
        "from nltk.stem import WordNetLemmatizer ##Lemmatization\n",
        "wordnet_lem = WordNetLemmatizer()\n",
        "df1['token'] = df1['token'].apply(wordnet_lem.lemmatize)"
      ],
      "metadata": {
        "colab": {
          "base_uri": "https://localhost:8080/"
        },
        "id": "7fKKNaiHZnc8",
        "outputId": "15b7b5a2-6187-4332-89bc-22a7b5b2501a"
      },
      "execution_count": 70,
      "outputs": [
        {
          "output_type": "stream",
          "name": "stdout",
          "text": [
            "[nltk_data] Downloading package wordnet to /root/nltk_data...\n",
            "[nltk_data]   Unzipping corpora/wordnet.zip.\n"
          ]
        }
      ]
    },
    {
      "cell_type": "code",
      "source": [
        "df1.head()"
      ],
      "metadata": {
        "colab": {
          "base_uri": "https://localhost:8080/",
          "height": 302
        },
        "id": "JYAX5T6XZsua",
        "outputId": "071f0fa2-1fbb-40e2-892f-e44c1e83f96f"
      },
      "execution_count": 71,
      "outputs": [
        {
          "output_type": "execute_result",
          "data": {
            "text/plain": [
              "   Class                                             Review  \\\n",
              "0      1            The Da Vinci Code book is just awesome.   \n",
              "1      1  this was the first clive cussler i've ever rea...   \n",
              "2      1                   i liked the Da Vinci Code a lot.   \n",
              "3      1                   i liked the Da Vinci Code a lot.   \n",
              "4      1  I liked the Da Vinci Code but it ultimatly did...   \n",
              "\n",
              "                                               clean  \\\n",
              "0             the da vinci code book is just awesome   \n",
              "1  this was the first clive cussler ive ever read...   \n",
              "2                    i liked the da vinci code a lot   \n",
              "3                    i liked the da vinci code a lot   \n",
              "4  i liked the da vinci code but it ultimatly did...   \n",
              "\n",
              "                                               token  \n",
              "0                            vinci code book awesome  \n",
              "1  first clive cussler ive ever read even books l...  \n",
              "2                               liked vinci code lot  \n",
              "3                               liked vinci code lot  \n",
              "4         liked vinci code ultimatly didnt seem hold  "
            ],
            "text/html": [
              "\n",
              "  <div id=\"df-98ef24d0-6e3d-42e8-ad0a-23f07ecdc6dc\">\n",
              "    <div class=\"colab-df-container\">\n",
              "      <div>\n",
              "<style scoped>\n",
              "    .dataframe tbody tr th:only-of-type {\n",
              "        vertical-align: middle;\n",
              "    }\n",
              "\n",
              "    .dataframe tbody tr th {\n",
              "        vertical-align: top;\n",
              "    }\n",
              "\n",
              "    .dataframe thead th {\n",
              "        text-align: right;\n",
              "    }\n",
              "</style>\n",
              "<table border=\"1\" class=\"dataframe\">\n",
              "  <thead>\n",
              "    <tr style=\"text-align: right;\">\n",
              "      <th></th>\n",
              "      <th>Class</th>\n",
              "      <th>Review</th>\n",
              "      <th>clean</th>\n",
              "      <th>token</th>\n",
              "    </tr>\n",
              "  </thead>\n",
              "  <tbody>\n",
              "    <tr>\n",
              "      <th>0</th>\n",
              "      <td>1</td>\n",
              "      <td>The Da Vinci Code book is just awesome.</td>\n",
              "      <td>the da vinci code book is just awesome</td>\n",
              "      <td>vinci code book awesome</td>\n",
              "    </tr>\n",
              "    <tr>\n",
              "      <th>1</th>\n",
              "      <td>1</td>\n",
              "      <td>this was the first clive cussler i've ever rea...</td>\n",
              "      <td>this was the first clive cussler ive ever read...</td>\n",
              "      <td>first clive cussler ive ever read even books l...</td>\n",
              "    </tr>\n",
              "    <tr>\n",
              "      <th>2</th>\n",
              "      <td>1</td>\n",
              "      <td>i liked the Da Vinci Code a lot.</td>\n",
              "      <td>i liked the da vinci code a lot</td>\n",
              "      <td>liked vinci code lot</td>\n",
              "    </tr>\n",
              "    <tr>\n",
              "      <th>3</th>\n",
              "      <td>1</td>\n",
              "      <td>i liked the Da Vinci Code a lot.</td>\n",
              "      <td>i liked the da vinci code a lot</td>\n",
              "      <td>liked vinci code lot</td>\n",
              "    </tr>\n",
              "    <tr>\n",
              "      <th>4</th>\n",
              "      <td>1</td>\n",
              "      <td>I liked the Da Vinci Code but it ultimatly did...</td>\n",
              "      <td>i liked the da vinci code but it ultimatly did...</td>\n",
              "      <td>liked vinci code ultimatly didnt seem hold</td>\n",
              "    </tr>\n",
              "  </tbody>\n",
              "</table>\n",
              "</div>\n",
              "      <button class=\"colab-df-convert\" onclick=\"convertToInteractive('df-98ef24d0-6e3d-42e8-ad0a-23f07ecdc6dc')\"\n",
              "              title=\"Convert this dataframe to an interactive table.\"\n",
              "              style=\"display:none;\">\n",
              "        \n",
              "  <svg xmlns=\"http://www.w3.org/2000/svg\" height=\"24px\"viewBox=\"0 0 24 24\"\n",
              "       width=\"24px\">\n",
              "    <path d=\"M0 0h24v24H0V0z\" fill=\"none\"/>\n",
              "    <path d=\"M18.56 5.44l.94 2.06.94-2.06 2.06-.94-2.06-.94-.94-2.06-.94 2.06-2.06.94zm-11 1L8.5 8.5l.94-2.06 2.06-.94-2.06-.94L8.5 2.5l-.94 2.06-2.06.94zm10 10l.94 2.06.94-2.06 2.06-.94-2.06-.94-.94-2.06-.94 2.06-2.06.94z\"/><path d=\"M17.41 7.96l-1.37-1.37c-.4-.4-.92-.59-1.43-.59-.52 0-1.04.2-1.43.59L10.3 9.45l-7.72 7.72c-.78.78-.78 2.05 0 2.83L4 21.41c.39.39.9.59 1.41.59.51 0 1.02-.2 1.41-.59l7.78-7.78 2.81-2.81c.8-.78.8-2.07 0-2.86zM5.41 20L4 18.59l7.72-7.72 1.47 1.35L5.41 20z\"/>\n",
              "  </svg>\n",
              "      </button>\n",
              "      \n",
              "  <style>\n",
              "    .colab-df-container {\n",
              "      display:flex;\n",
              "      flex-wrap:wrap;\n",
              "      gap: 12px;\n",
              "    }\n",
              "\n",
              "    .colab-df-convert {\n",
              "      background-color: #E8F0FE;\n",
              "      border: none;\n",
              "      border-radius: 50%;\n",
              "      cursor: pointer;\n",
              "      display: none;\n",
              "      fill: #1967D2;\n",
              "      height: 32px;\n",
              "      padding: 0 0 0 0;\n",
              "      width: 32px;\n",
              "    }\n",
              "\n",
              "    .colab-df-convert:hover {\n",
              "      background-color: #E2EBFA;\n",
              "      box-shadow: 0px 1px 2px rgba(60, 64, 67, 0.3), 0px 1px 3px 1px rgba(60, 64, 67, 0.15);\n",
              "      fill: #174EA6;\n",
              "    }\n",
              "\n",
              "    [theme=dark] .colab-df-convert {\n",
              "      background-color: #3B4455;\n",
              "      fill: #D2E3FC;\n",
              "    }\n",
              "\n",
              "    [theme=dark] .colab-df-convert:hover {\n",
              "      background-color: #434B5C;\n",
              "      box-shadow: 0px 1px 3px 1px rgba(0, 0, 0, 0.15);\n",
              "      filter: drop-shadow(0px 1px 2px rgba(0, 0, 0, 0.3));\n",
              "      fill: #FFFFFF;\n",
              "    }\n",
              "  </style>\n",
              "\n",
              "      <script>\n",
              "        const buttonEl =\n",
              "          document.querySelector('#df-98ef24d0-6e3d-42e8-ad0a-23f07ecdc6dc button.colab-df-convert');\n",
              "        buttonEl.style.display =\n",
              "          google.colab.kernel.accessAllowed ? 'block' : 'none';\n",
              "\n",
              "        async function convertToInteractive(key) {\n",
              "          const element = document.querySelector('#df-98ef24d0-6e3d-42e8-ad0a-23f07ecdc6dc');\n",
              "          const dataTable =\n",
              "            await google.colab.kernel.invokeFunction('convertToInteractive',\n",
              "                                                     [key], {});\n",
              "          if (!dataTable) return;\n",
              "\n",
              "          const docLinkHtml = 'Like what you see? Visit the ' +\n",
              "            '<a target=\"_blank\" href=https://colab.research.google.com/notebooks/data_table.ipynb>data table notebook</a>'\n",
              "            + ' to learn more about interactive tables.';\n",
              "          element.innerHTML = '';\n",
              "          dataTable['output_type'] = 'display_data';\n",
              "          await google.colab.output.renderOutput(dataTable, element);\n",
              "          const docLink = document.createElement('div');\n",
              "          docLink.innerHTML = docLinkHtml;\n",
              "          element.appendChild(docLink);\n",
              "        }\n",
              "      </script>\n",
              "    </div>\n",
              "  </div>\n",
              "  "
            ]
          },
          "metadata": {},
          "execution_count": 71
        }
      ]
    },
    {
      "cell_type": "code",
      "source": [
        "df1=df1.drop(['clean'], axis = 1)\n",
        "df1 = df1.rename(columns={'token':'Clean_data'})"
      ],
      "metadata": {
        "id": "B4r0npPgzaQS"
      },
      "execution_count": 83,
      "outputs": []
    },
    {
      "cell_type": "code",
      "source": [
        "df1 = df1.rename(columns={'token':'Clean_data'})"
      ],
      "metadata": {
        "id": "hJIeV4OUZ1kl"
      },
      "execution_count": 84,
      "outputs": []
    },
    {
      "cell_type": "code",
      "source": [
        "from textblob import TextBlob\n",
        "pola = lambda x: TextBlob(x).sentiment.polarity"
      ],
      "metadata": {
        "id": "dxq5tW-DZ8Ie"
      },
      "execution_count": 85,
      "outputs": []
    },
    {
      "cell_type": "code",
      "source": [
        "df1['polarity'] = df1['Clean_data'].apply(pola)"
      ],
      "metadata": {
        "id": "g5W81JFdaEPP"
      },
      "execution_count": 86,
      "outputs": []
    },
    {
      "cell_type": "code",
      "source": [
        "sen=[]\n",
        "for i in df1[\"polarity\"]:\n",
        "  if i==0:\n",
        "    sen.append(\"neutral\")\n",
        "  elif i>0:\n",
        "    sen.append(\"positive\")\n",
        "  else:\n",
        "    sen.append(\"negative\")"
      ],
      "metadata": {
        "id": "1WFYZsHSaH3H"
      },
      "execution_count": 87,
      "outputs": []
    },
    {
      "cell_type": "code",
      "source": [
        "senti = pd.DataFrame(sen, columns =['Sentiment'])\n",
        "df1_sentiment=pd.concat([df1,senti], axis=1)"
      ],
      "metadata": {
        "id": "hUym8SAPaSfe"
      },
      "execution_count": 88,
      "outputs": []
    },
    {
      "cell_type": "code",
      "source": [
        "df1_sentiment.head(10)"
      ],
      "metadata": {
        "colab": {
          "base_uri": "https://localhost:8080/",
          "height": 476
        },
        "id": "LV8RVSFCap6_",
        "outputId": "184a62bd-e691-47d8-bb08-e4dce1b21453"
      },
      "execution_count": 95,
      "outputs": [
        {
          "output_type": "execute_result",
          "data": {
            "text/plain": [
              "   Class                                             Review  \\\n",
              "0      1            The Da Vinci Code book is just awesome.   \n",
              "1      1  this was the first clive cussler i've ever rea...   \n",
              "2      1                   i liked the Da Vinci Code a lot.   \n",
              "3      1                   i liked the Da Vinci Code a lot.   \n",
              "4      1  I liked the Da Vinci Code but it ultimatly did...   \n",
              "5      1  that's not even an exaggeration ) and at midni...   \n",
              "6      1  I loved the Da Vinci Code, but now I want some...   \n",
              "7      1  i thought da vinci code was great, same with k...   \n",
              "8      1      The Da Vinci Code is actually a good movie...   \n",
              "9      1  I thought the Da Vinci Code was a pretty good ...   \n",
              "\n",
              "                                          Clean_data  polarity Sentiment  \n",
              "0                            vinci code book awesome     1.000  positive  \n",
              "1  first clive cussler ive ever read even books l...     0.375  positive  \n",
              "2                               liked vinci code lot     0.600  positive  \n",
              "3                               liked vinci code lot     0.600  positive  \n",
              "4         liked vinci code ultimatly didnt seem hold     0.600  positive  \n",
              "5  thats even exaggeration midnight went walmart ...     0.600  positive  \n",
              "6   loved vinci code want something better different     0.400  positive  \n",
              "7               thought vinci code great kite runner     0.800  positive  \n",
              "8                     vinci code actually good movie     0.700  positive  \n",
              "9                thought vinci code pretty good book     0.475  positive  "
            ],
            "text/html": [
              "\n",
              "  <div id=\"df-7673c5ef-261e-4f12-9d76-5f202eeb3715\">\n",
              "    <div class=\"colab-df-container\">\n",
              "      <div>\n",
              "<style scoped>\n",
              "    .dataframe tbody tr th:only-of-type {\n",
              "        vertical-align: middle;\n",
              "    }\n",
              "\n",
              "    .dataframe tbody tr th {\n",
              "        vertical-align: top;\n",
              "    }\n",
              "\n",
              "    .dataframe thead th {\n",
              "        text-align: right;\n",
              "    }\n",
              "</style>\n",
              "<table border=\"1\" class=\"dataframe\">\n",
              "  <thead>\n",
              "    <tr style=\"text-align: right;\">\n",
              "      <th></th>\n",
              "      <th>Class</th>\n",
              "      <th>Review</th>\n",
              "      <th>Clean_data</th>\n",
              "      <th>polarity</th>\n",
              "      <th>Sentiment</th>\n",
              "    </tr>\n",
              "  </thead>\n",
              "  <tbody>\n",
              "    <tr>\n",
              "      <th>0</th>\n",
              "      <td>1</td>\n",
              "      <td>The Da Vinci Code book is just awesome.</td>\n",
              "      <td>vinci code book awesome</td>\n",
              "      <td>1.000</td>\n",
              "      <td>positive</td>\n",
              "    </tr>\n",
              "    <tr>\n",
              "      <th>1</th>\n",
              "      <td>1</td>\n",
              "      <td>this was the first clive cussler i've ever rea...</td>\n",
              "      <td>first clive cussler ive ever read even books l...</td>\n",
              "      <td>0.375</td>\n",
              "      <td>positive</td>\n",
              "    </tr>\n",
              "    <tr>\n",
              "      <th>2</th>\n",
              "      <td>1</td>\n",
              "      <td>i liked the Da Vinci Code a lot.</td>\n",
              "      <td>liked vinci code lot</td>\n",
              "      <td>0.600</td>\n",
              "      <td>positive</td>\n",
              "    </tr>\n",
              "    <tr>\n",
              "      <th>3</th>\n",
              "      <td>1</td>\n",
              "      <td>i liked the Da Vinci Code a lot.</td>\n",
              "      <td>liked vinci code lot</td>\n",
              "      <td>0.600</td>\n",
              "      <td>positive</td>\n",
              "    </tr>\n",
              "    <tr>\n",
              "      <th>4</th>\n",
              "      <td>1</td>\n",
              "      <td>I liked the Da Vinci Code but it ultimatly did...</td>\n",
              "      <td>liked vinci code ultimatly didnt seem hold</td>\n",
              "      <td>0.600</td>\n",
              "      <td>positive</td>\n",
              "    </tr>\n",
              "    <tr>\n",
              "      <th>5</th>\n",
              "      <td>1</td>\n",
              "      <td>that's not even an exaggeration ) and at midni...</td>\n",
              "      <td>thats even exaggeration midnight went walmart ...</td>\n",
              "      <td>0.600</td>\n",
              "      <td>positive</td>\n",
              "    </tr>\n",
              "    <tr>\n",
              "      <th>6</th>\n",
              "      <td>1</td>\n",
              "      <td>I loved the Da Vinci Code, but now I want some...</td>\n",
              "      <td>loved vinci code want something better different</td>\n",
              "      <td>0.400</td>\n",
              "      <td>positive</td>\n",
              "    </tr>\n",
              "    <tr>\n",
              "      <th>7</th>\n",
              "      <td>1</td>\n",
              "      <td>i thought da vinci code was great, same with k...</td>\n",
              "      <td>thought vinci code great kite runner</td>\n",
              "      <td>0.800</td>\n",
              "      <td>positive</td>\n",
              "    </tr>\n",
              "    <tr>\n",
              "      <th>8</th>\n",
              "      <td>1</td>\n",
              "      <td>The Da Vinci Code is actually a good movie...</td>\n",
              "      <td>vinci code actually good movie</td>\n",
              "      <td>0.700</td>\n",
              "      <td>positive</td>\n",
              "    </tr>\n",
              "    <tr>\n",
              "      <th>9</th>\n",
              "      <td>1</td>\n",
              "      <td>I thought the Da Vinci Code was a pretty good ...</td>\n",
              "      <td>thought vinci code pretty good book</td>\n",
              "      <td>0.475</td>\n",
              "      <td>positive</td>\n",
              "    </tr>\n",
              "  </tbody>\n",
              "</table>\n",
              "</div>\n",
              "      <button class=\"colab-df-convert\" onclick=\"convertToInteractive('df-7673c5ef-261e-4f12-9d76-5f202eeb3715')\"\n",
              "              title=\"Convert this dataframe to an interactive table.\"\n",
              "              style=\"display:none;\">\n",
              "        \n",
              "  <svg xmlns=\"http://www.w3.org/2000/svg\" height=\"24px\"viewBox=\"0 0 24 24\"\n",
              "       width=\"24px\">\n",
              "    <path d=\"M0 0h24v24H0V0z\" fill=\"none\"/>\n",
              "    <path d=\"M18.56 5.44l.94 2.06.94-2.06 2.06-.94-2.06-.94-.94-2.06-.94 2.06-2.06.94zm-11 1L8.5 8.5l.94-2.06 2.06-.94-2.06-.94L8.5 2.5l-.94 2.06-2.06.94zm10 10l.94 2.06.94-2.06 2.06-.94-2.06-.94-.94-2.06-.94 2.06-2.06.94z\"/><path d=\"M17.41 7.96l-1.37-1.37c-.4-.4-.92-.59-1.43-.59-.52 0-1.04.2-1.43.59L10.3 9.45l-7.72 7.72c-.78.78-.78 2.05 0 2.83L4 21.41c.39.39.9.59 1.41.59.51 0 1.02-.2 1.41-.59l7.78-7.78 2.81-2.81c.8-.78.8-2.07 0-2.86zM5.41 20L4 18.59l7.72-7.72 1.47 1.35L5.41 20z\"/>\n",
              "  </svg>\n",
              "      </button>\n",
              "      \n",
              "  <style>\n",
              "    .colab-df-container {\n",
              "      display:flex;\n",
              "      flex-wrap:wrap;\n",
              "      gap: 12px;\n",
              "    }\n",
              "\n",
              "    .colab-df-convert {\n",
              "      background-color: #E8F0FE;\n",
              "      border: none;\n",
              "      border-radius: 50%;\n",
              "      cursor: pointer;\n",
              "      display: none;\n",
              "      fill: #1967D2;\n",
              "      height: 32px;\n",
              "      padding: 0 0 0 0;\n",
              "      width: 32px;\n",
              "    }\n",
              "\n",
              "    .colab-df-convert:hover {\n",
              "      background-color: #E2EBFA;\n",
              "      box-shadow: 0px 1px 2px rgba(60, 64, 67, 0.3), 0px 1px 3px 1px rgba(60, 64, 67, 0.15);\n",
              "      fill: #174EA6;\n",
              "    }\n",
              "\n",
              "    [theme=dark] .colab-df-convert {\n",
              "      background-color: #3B4455;\n",
              "      fill: #D2E3FC;\n",
              "    }\n",
              "\n",
              "    [theme=dark] .colab-df-convert:hover {\n",
              "      background-color: #434B5C;\n",
              "      box-shadow: 0px 1px 3px 1px rgba(0, 0, 0, 0.15);\n",
              "      filter: drop-shadow(0px 1px 2px rgba(0, 0, 0, 0.3));\n",
              "      fill: #FFFFFF;\n",
              "    }\n",
              "  </style>\n",
              "\n",
              "      <script>\n",
              "        const buttonEl =\n",
              "          document.querySelector('#df-7673c5ef-261e-4f12-9d76-5f202eeb3715 button.colab-df-convert');\n",
              "        buttonEl.style.display =\n",
              "          google.colab.kernel.accessAllowed ? 'block' : 'none';\n",
              "\n",
              "        async function convertToInteractive(key) {\n",
              "          const element = document.querySelector('#df-7673c5ef-261e-4f12-9d76-5f202eeb3715');\n",
              "          const dataTable =\n",
              "            await google.colab.kernel.invokeFunction('convertToInteractive',\n",
              "                                                     [key], {});\n",
              "          if (!dataTable) return;\n",
              "\n",
              "          const docLinkHtml = 'Like what you see? Visit the ' +\n",
              "            '<a target=\"_blank\" href=https://colab.research.google.com/notebooks/data_table.ipynb>data table notebook</a>'\n",
              "            + ' to learn more about interactive tables.';\n",
              "          element.innerHTML = '';\n",
              "          dataTable['output_type'] = 'display_data';\n",
              "          await google.colab.output.renderOutput(dataTable, element);\n",
              "          const docLink = document.createElement('div');\n",
              "          docLink.innerHTML = docLinkHtml;\n",
              "          element.appendChild(docLink);\n",
              "        }\n",
              "      </script>\n",
              "    </div>\n",
              "  </div>\n",
              "  "
            ]
          },
          "metadata": {},
          "execution_count": 95
        }
      ]
    },
    {
      "cell_type": "code",
      "source": [
        "k=df1_sentiment.drop([\"Clean_data\",'polarity'],axis=1)"
      ],
      "metadata": {
        "id": "iTTfsVqNawX8"
      },
      "execution_count": 92,
      "outputs": []
    },
    {
      "cell_type": "code",
      "source": [
        "k.head(10)"
      ],
      "metadata": {
        "colab": {
          "base_uri": "https://localhost:8080/",
          "height": 363
        },
        "id": "r7c__R_G0P2s",
        "outputId": "41878335-31b6-4485-dcaf-20b4eba9d591"
      },
      "execution_count": 96,
      "outputs": [
        {
          "output_type": "execute_result",
          "data": {
            "text/plain": [
              "   Class                                             Review Sentiment\n",
              "0      1            The Da Vinci Code book is just awesome.  positive\n",
              "1      1  this was the first clive cussler i've ever rea...  positive\n",
              "2      1                   i liked the Da Vinci Code a lot.  positive\n",
              "3      1                   i liked the Da Vinci Code a lot.  positive\n",
              "4      1  I liked the Da Vinci Code but it ultimatly did...  positive\n",
              "5      1  that's not even an exaggeration ) and at midni...  positive\n",
              "6      1  I loved the Da Vinci Code, but now I want some...  positive\n",
              "7      1  i thought da vinci code was great, same with k...  positive\n",
              "8      1      The Da Vinci Code is actually a good movie...  positive\n",
              "9      1  I thought the Da Vinci Code was a pretty good ...  positive"
            ],
            "text/html": [
              "\n",
              "  <div id=\"df-d02a8d11-1a01-45b5-b53e-f7fb77e6d830\">\n",
              "    <div class=\"colab-df-container\">\n",
              "      <div>\n",
              "<style scoped>\n",
              "    .dataframe tbody tr th:only-of-type {\n",
              "        vertical-align: middle;\n",
              "    }\n",
              "\n",
              "    .dataframe tbody tr th {\n",
              "        vertical-align: top;\n",
              "    }\n",
              "\n",
              "    .dataframe thead th {\n",
              "        text-align: right;\n",
              "    }\n",
              "</style>\n",
              "<table border=\"1\" class=\"dataframe\">\n",
              "  <thead>\n",
              "    <tr style=\"text-align: right;\">\n",
              "      <th></th>\n",
              "      <th>Class</th>\n",
              "      <th>Review</th>\n",
              "      <th>Sentiment</th>\n",
              "    </tr>\n",
              "  </thead>\n",
              "  <tbody>\n",
              "    <tr>\n",
              "      <th>0</th>\n",
              "      <td>1</td>\n",
              "      <td>The Da Vinci Code book is just awesome.</td>\n",
              "      <td>positive</td>\n",
              "    </tr>\n",
              "    <tr>\n",
              "      <th>1</th>\n",
              "      <td>1</td>\n",
              "      <td>this was the first clive cussler i've ever rea...</td>\n",
              "      <td>positive</td>\n",
              "    </tr>\n",
              "    <tr>\n",
              "      <th>2</th>\n",
              "      <td>1</td>\n",
              "      <td>i liked the Da Vinci Code a lot.</td>\n",
              "      <td>positive</td>\n",
              "    </tr>\n",
              "    <tr>\n",
              "      <th>3</th>\n",
              "      <td>1</td>\n",
              "      <td>i liked the Da Vinci Code a lot.</td>\n",
              "      <td>positive</td>\n",
              "    </tr>\n",
              "    <tr>\n",
              "      <th>4</th>\n",
              "      <td>1</td>\n",
              "      <td>I liked the Da Vinci Code but it ultimatly did...</td>\n",
              "      <td>positive</td>\n",
              "    </tr>\n",
              "    <tr>\n",
              "      <th>5</th>\n",
              "      <td>1</td>\n",
              "      <td>that's not even an exaggeration ) and at midni...</td>\n",
              "      <td>positive</td>\n",
              "    </tr>\n",
              "    <tr>\n",
              "      <th>6</th>\n",
              "      <td>1</td>\n",
              "      <td>I loved the Da Vinci Code, but now I want some...</td>\n",
              "      <td>positive</td>\n",
              "    </tr>\n",
              "    <tr>\n",
              "      <th>7</th>\n",
              "      <td>1</td>\n",
              "      <td>i thought da vinci code was great, same with k...</td>\n",
              "      <td>positive</td>\n",
              "    </tr>\n",
              "    <tr>\n",
              "      <th>8</th>\n",
              "      <td>1</td>\n",
              "      <td>The Da Vinci Code is actually a good movie...</td>\n",
              "      <td>positive</td>\n",
              "    </tr>\n",
              "    <tr>\n",
              "      <th>9</th>\n",
              "      <td>1</td>\n",
              "      <td>I thought the Da Vinci Code was a pretty good ...</td>\n",
              "      <td>positive</td>\n",
              "    </tr>\n",
              "  </tbody>\n",
              "</table>\n",
              "</div>\n",
              "      <button class=\"colab-df-convert\" onclick=\"convertToInteractive('df-d02a8d11-1a01-45b5-b53e-f7fb77e6d830')\"\n",
              "              title=\"Convert this dataframe to an interactive table.\"\n",
              "              style=\"display:none;\">\n",
              "        \n",
              "  <svg xmlns=\"http://www.w3.org/2000/svg\" height=\"24px\"viewBox=\"0 0 24 24\"\n",
              "       width=\"24px\">\n",
              "    <path d=\"M0 0h24v24H0V0z\" fill=\"none\"/>\n",
              "    <path d=\"M18.56 5.44l.94 2.06.94-2.06 2.06-.94-2.06-.94-.94-2.06-.94 2.06-2.06.94zm-11 1L8.5 8.5l.94-2.06 2.06-.94-2.06-.94L8.5 2.5l-.94 2.06-2.06.94zm10 10l.94 2.06.94-2.06 2.06-.94-2.06-.94-.94-2.06-.94 2.06-2.06.94z\"/><path d=\"M17.41 7.96l-1.37-1.37c-.4-.4-.92-.59-1.43-.59-.52 0-1.04.2-1.43.59L10.3 9.45l-7.72 7.72c-.78.78-.78 2.05 0 2.83L4 21.41c.39.39.9.59 1.41.59.51 0 1.02-.2 1.41-.59l7.78-7.78 2.81-2.81c.8-.78.8-2.07 0-2.86zM5.41 20L4 18.59l7.72-7.72 1.47 1.35L5.41 20z\"/>\n",
              "  </svg>\n",
              "      </button>\n",
              "      \n",
              "  <style>\n",
              "    .colab-df-container {\n",
              "      display:flex;\n",
              "      flex-wrap:wrap;\n",
              "      gap: 12px;\n",
              "    }\n",
              "\n",
              "    .colab-df-convert {\n",
              "      background-color: #E8F0FE;\n",
              "      border: none;\n",
              "      border-radius: 50%;\n",
              "      cursor: pointer;\n",
              "      display: none;\n",
              "      fill: #1967D2;\n",
              "      height: 32px;\n",
              "      padding: 0 0 0 0;\n",
              "      width: 32px;\n",
              "    }\n",
              "\n",
              "    .colab-df-convert:hover {\n",
              "      background-color: #E2EBFA;\n",
              "      box-shadow: 0px 1px 2px rgba(60, 64, 67, 0.3), 0px 1px 3px 1px rgba(60, 64, 67, 0.15);\n",
              "      fill: #174EA6;\n",
              "    }\n",
              "\n",
              "    [theme=dark] .colab-df-convert {\n",
              "      background-color: #3B4455;\n",
              "      fill: #D2E3FC;\n",
              "    }\n",
              "\n",
              "    [theme=dark] .colab-df-convert:hover {\n",
              "      background-color: #434B5C;\n",
              "      box-shadow: 0px 1px 3px 1px rgba(0, 0, 0, 0.15);\n",
              "      filter: drop-shadow(0px 1px 2px rgba(0, 0, 0, 0.3));\n",
              "      fill: #FFFFFF;\n",
              "    }\n",
              "  </style>\n",
              "\n",
              "      <script>\n",
              "        const buttonEl =\n",
              "          document.querySelector('#df-d02a8d11-1a01-45b5-b53e-f7fb77e6d830 button.colab-df-convert');\n",
              "        buttonEl.style.display =\n",
              "          google.colab.kernel.accessAllowed ? 'block' : 'none';\n",
              "\n",
              "        async function convertToInteractive(key) {\n",
              "          const element = document.querySelector('#df-d02a8d11-1a01-45b5-b53e-f7fb77e6d830');\n",
              "          const dataTable =\n",
              "            await google.colab.kernel.invokeFunction('convertToInteractive',\n",
              "                                                     [key], {});\n",
              "          if (!dataTable) return;\n",
              "\n",
              "          const docLinkHtml = 'Like what you see? Visit the ' +\n",
              "            '<a target=\"_blank\" href=https://colab.research.google.com/notebooks/data_table.ipynb>data table notebook</a>'\n",
              "            + ' to learn more about interactive tables.';\n",
              "          element.innerHTML = '';\n",
              "          dataTable['output_type'] = 'display_data';\n",
              "          await google.colab.output.renderOutput(dataTable, element);\n",
              "          const docLink = document.createElement('div');\n",
              "          docLink.innerHTML = docLinkHtml;\n",
              "          element.appendChild(docLink);\n",
              "        }\n",
              "      </script>\n",
              "    </div>\n",
              "  </div>\n",
              "  "
            ]
          },
          "metadata": {},
          "execution_count": 96
        }
      ]
    },
    {
      "cell_type": "code",
      "source": [
        "##SAVING TO DATAFRAME\n",
        "k.to_csv(r'/content/sample_data/text1_sentiment.txt',index=None, sep='\\t', mode='a')"
      ],
      "metadata": {
        "id": "MUP1Pigg0wvz"
      },
      "execution_count": 97,
      "outputs": []
    },
    {
      "cell_type": "markdown",
      "source": [
        ""
      ],
      "metadata": {
        "id": "sQe18a0N1b9B"
      }
    },
    {
      "cell_type": "markdown",
      "source": [
        "# QUESTION 5"
      ],
      "metadata": {
        "id": "Ra5TIYj_1cAI"
      }
    },
    {
      "cell_type": "code",
      "source": [
        "import io\n",
        "text1 = []\n",
        "with io.open(\"/content/textsample1.txt\", 'rU', encoding='utf-8') as f:\n",
        "    for i in f: \n",
        "        text1.append([format_sentence(i), 'pos'])"
      ],
      "metadata": {
        "colab": {
          "base_uri": "https://localhost:8080/"
        },
        "id": "sxYPEm7i2IFw",
        "outputId": "106df908-196a-40c0-c290-6b1a0821eaad"
      },
      "execution_count": 98,
      "outputs": [
        {
          "output_type": "stream",
          "name": "stderr",
          "text": [
            "/usr/local/lib/python3.7/dist-packages/ipykernel_launcher.py:3: DeprecationWarning: 'U' mode is deprecated\n",
            "  This is separate from the ipykernel package so we can avoid doing imports until\n"
          ]
        }
      ]
    },
    {
      "cell_type": "code",
      "source": [
        "train = text1[:int((.8)*len(text1))]\n",
        "testing = text1[int((.8)*len(text1)):]"
      ],
      "metadata": {
        "id": "0yIao-IP2I3l"
      },
      "execution_count": 101,
      "outputs": []
    },
    {
      "cell_type": "code",
      "source": [
        "from nltk.classify.util import accuracy\n",
        "print(round(accuracy(classifier,testing),3))"
      ],
      "metadata": {
        "colab": {
          "base_uri": "https://localhost:8080/"
        },
        "id": "u4qA1twh2I6W",
        "outputId": "e9806598-13cd-40fa-cf9a-d5c66b4206db"
      },
      "execution_count": 105,
      "outputs": [
        {
          "output_type": "stream",
          "name": "stdout",
          "text": [
            "0.896\n"
          ]
        }
      ]
    },
    {
      "cell_type": "markdown",
      "source": [
        "# Accuracy score is 89% which means out of 100 observations 89 are classified correctly"
      ],
      "metadata": {
        "id": "TUQYwsTx896A"
      }
    },
    {
      "cell_type": "code",
      "source": [
        ""
      ],
      "metadata": {
        "id": "lvnx2FyR9INc"
      },
      "execution_count": null,
      "outputs": []
    }
  ],
  "metadata": {
    "kernelspec": {
      "display_name": "Python 3 (ipykernel)",
      "language": "python",
      "name": "python3"
    },
    "language_info": {
      "codemirror_mode": {
        "name": "ipython",
        "version": 3
      },
      "file_extension": ".py",
      "mimetype": "text/x-python",
      "name": "python",
      "nbconvert_exporter": "python",
      "pygments_lexer": "ipython3",
      "version": "3.9.7"
    },
    "colab": {
      "name": "Manchala_GNUMBER.ipynb",
      "provenance": [],
      "collapsed_sections": [
        "nc3L0o2gLLLF",
        "G8ChE7JfLLLH"
      ]
    }
  },
  "nbformat": 4,
  "nbformat_minor": 0
}