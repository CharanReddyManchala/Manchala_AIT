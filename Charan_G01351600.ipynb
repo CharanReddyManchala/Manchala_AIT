{
 "cells": [
  {
   "cell_type": "code",
   "execution_count": 38,
   "id": "00c752cf",
   "metadata": {},
   "outputs": [],
   "source": [
    "import requests\n",
    "from bs4 import BeautifulSoup as sp\n",
    "import pandas as pd"
   ]
  },
  {
   "cell_type": "code",
   "execution_count": 10,
   "id": "2ce25db8",
   "metadata": {},
   "outputs": [
    {
     "name": "stderr",
     "output_type": "stream",
     "text": [
      "C:\\Users\\saich\\anaconda3\\lib\\site-packages\\urllib3\\connectionpool.py:1013: InsecureRequestWarning: Unverified HTTPS request is being made to host 'repo.vse.gmu.edu'. Adding certificate verification is strongly advised. See: https://urllib3.readthedocs.io/en/1.26.x/advanced-usage.html#ssl-warnings\n",
      "  warnings.warn(\n"
     ]
    }
   ],
   "source": [
    "source = requests.get('https://repo.vse.gmu.edu/ait/AIT580/580books.html',verify=False)"
   ]
  },
  {
   "cell_type": "code",
   "execution_count": 12,
   "id": "04e57e00",
   "metadata": {},
   "outputs": [
    {
     "data": {
      "text/plain": [
       "b'<!DOCTYPE HTML PUBLIC \"-//W3C//DTD HTML 4.01 Transitional//EN\">\\n<html>\\n  <head>\\n\\n    <meta http-equiv=\"content-type\" content=\"text/html; charset=windows-1252\">\\n  </head>\\n  <body>\\n    <h3><a href=\"https://ssearch.oreilly.com/?q=python\">O\\'Reilly Python\\n        Books</a></h3>\\n    There are literally dozens, if not hundreds, of books about the Python programming language and its uses. Here are but a few:\\n    <ul>\\n      <li><a href=\"https://ssearch.oreilly.com/?q=python\"><booktitle>Learning Python</booktitle></a>; <author>Mark Lutz</author>; <publisher>O\\'Reilly Media</publisher>; <release>June 2013</release></li>\\n      <li><a href=\"https://ssearch.oreilly.com/?q=python\"><booktitle>Web Scraping with Python</booktitle></a>; <author>Ryan Mitchell</author>; <publisher>O\\'Reilly Media</publisher>; <release>November 2017</release></li>\\n      <li><a href=\"https://ssearch.oreilly.com/?q=python\"><booktitle>Python Coding for Kids</booktitle></a>; <author>Don Wilcher</author>; <publisher>Maker Media, Inc</publisher>; <release>September 2017</release></li>\\n      <li><a href=\"https://ssearch.oreilly.com/?q=python\"><booktitle>Python Machine Learning By Example</booktitle></a>; <author>Yuxi Liu</author>; <publisher>Packt Publishing</publisher>; <release>May 2017</release></li>\\n      <li><a href=\"https://ssearch.oreilly.com/?q=python\"><booktitle>Python Data Structures and Algorithms</booktitle></a>; <author>Benjamin Baka</author>; <publisher>Packt Publishing</publisher>; <release>May 2017</release></li>\\n      <li><a href=\"https://ssearch.oreilly.com/?q=python\"><booktitle>Python in a Nutshell</booktitle></a>; <author>Alex Martelli, Anna Ravenscroft, Steve Holden</author>; <publisher>O\\'Reilly Media</publisher>; <release>April 2017</release></li>\\n      <li><a href=\"https://ssearch.oreilly.com/?q=python\"><booktitle>Invent Your Own Computer Games with Python</booktitle></a>; <author>Al Sweigart</author>; <publisher>No Starch Press</publisher>; <release>December 2016</release></li>\\n      <li><a href=\"https://ssearch.oreilly.com/?q=python\"><booktitle>Head First Python</booktitle></a>; <author>Paul Barry</author>; <publisher>O\\'Reilly Media</publisher>; <release>November 2016</release></li>\\n      <li><a href=\"https://ssearch.oreilly.com/?q=python\"><booktitle>Integrating Python with Leading Computer Forensics Platforms</booktitle></a>; <author>Chet Hosmer</author>; <publisher>Elsevier / Syngress</publisher>; <release>September 2016</release></li>\\n      <li><a href=\"https://ssearch.oreilly.com/?q=python\"><booktitle>Data Science Essentials in Python</booktitle></a>; <author>Dmitry Zinoviev</author>; <publisher>Pragmatic Bookshelf</publisher>; <release>August 2016</release></li>\\n    </ul>\\n    All trademarks and registered trademarks are the property of their respective owners.<br>\\n    <br>\\n    <table width=\"100%\" cellspacing=\"2\" cellpadding=\"2\" border=\"1\">\\n      <tbody>\\n        <tr>\\n          <td valign=\"top\"><b>Title</b><b><br>\\n            </b></td>\\n          <td valign=\"top\"><b>Author(S)</b><b><br>\\n            </b></td>\\n          <td valign=\"top\"><b>Publisher</b><b><br>\\n            </b></td>\\n          <td valign=\"top\"><b>PubDate</b><b><br>\\n            </b></td>\\n        </tr>\\n        <tr>\\n          <td valign=\"top\"><a href=\"https://ssearch.oreilly.com/?q=python\">Learning Python</a></td>\\n          <td valign=\"top\">Mark Lutz</td>\\n          <td valign=\"top\">O\\'Reilly Media</td>\\n          <td valign=\"top\">June 2013</td>\\n        </tr>\\n        <tr>\\n          <td valign=\"top\"><a href=\"https://ssearch.oreilly.com/?q=python\">Web Scraping with Python</a></td>\\n          <td valign=\"top\">Ryan Mitchell</td>\\n          <td valign=\"top\">O\\'Reilly Media</td>\\n          <td valign=\"top\">November 2017</td>\\n        </tr>\\n        <tr>\\n          <td valign=\"top\"><a href=\"https://ssearch.oreilly.com/?q=python\">Python Coding for Kids</a></td>\\n          <td valign=\"top\"><author>Don Wilcher</author></td>\\n          <td valign=\"top\"><publisher>Maker Media, Inc</publisher></td>\\n          <td valign=\"top\">September 2017</td>\\n        </tr>\\n        <tr>\\n          <td valign=\"top\"><a href=\"https://ssearch.oreilly.com/?q=python\">Python Machine Learning By Example</a></td>\\n          <td valign=\"top\">Yuxi Liu</td>\\n          <td valign=\"top\">Packt Publishing</td>\\n          <td valign=\"top\">May 2017</td>\\n        </tr>\\n        <tr>\\n          <td valign=\"top\"><a href=\"https://ssearch.oreilly.com/?q=python\">Python Data Structures and Algorithms</a></td>\\n          <td valign=\"top\">Benjamin Baka</td>\\n          <td valign=\"top\">Packt Publishing</td>\\n          <td valign=\"top\">May 2017</td>\\n        </tr>\\n        <tr>\\n          <td valign=\"top\"><a href=\"https://ssearch.oreilly.com/?q=python\">Python in a Nutshell</a></td>\\n          <td valign=\"top\">Alex Martelli, Anna Ravenscroft</td>\\n          <td valign=\"top\">O\\'Reilly Media</td>\\n          <td valign=\"top\">April 2017</td>\\n        </tr>\\n        <tr>\\n          <td valign=\"top\"><a href=\"https://ssearch.oreilly.com/?q=python\">Invent Your Own Computer Games with Python</a></td>\\n          <td valign=\"top\">Al Sweigart</td>\\n          <td valign=\"top\">No Starch Press</td>\\n          <td valign=\"top\">December 2016</td>\\n        </tr>\\n        <tr>\\n          <td valign=\"top\"><a href=\"https://ssearch.oreilly.com/?q=python\">Head First Python</a></td>\\n          <td valign=\"top\">Paul Barry</td>\\n          <td valign=\"top\">O\\'Reilly Media</td>\\n          <td valign=\"top\">November 2016</td>\\n        </tr>\\n        <tr>\\n          <td valign=\"top\"><a\\n              href=\"https://ssearch.oreilly.com/?q=python\">Integrating Python with Leading Computer Forensics Platforms</a></td>\\n          <td valign=\"top\"><author>Chet Hosmer</author></td>\\n          <td valign=\"top\">Elsevier / Syngress</td>\\n          <td valign=\"top\">September 2016</td>\\n        </tr>\\n        <tr>\\n          <td valign=\"top\"><a\\n              href=\"https://ssearch.oreilly.com/?q=python\">Data Science Essentials in Python</a></td>\\n          <td valign=\"top\"><author>Dmitry Zinoviev</author></td>\\n          <td valign=\"top\"><publisher>Pragmatic Bookshelf</publisher></td>\\n          <td valign=\"top\">August 2016</td>\\n        </tr>\\n      </tbody>\\n    </table>\\n    <br>\\n  </body>\\n</html>\\n'"
      ]
     },
     "execution_count": 12,
     "metadata": {},
     "output_type": "execute_result"
    }
   ],
   "source": [
    "source.content"
   ]
  },
  {
   "cell_type": "code",
   "execution_count": 14,
   "id": "c32f406b",
   "metadata": {},
   "outputs": [
    {
     "data": {
      "text/plain": [
       "<!DOCTYPE HTML PUBLIC \"-//W3C//DTD HTML 4.01 Transitional//EN\">\n",
       "<html>\n",
       "<head>\n",
       "<meta content=\"text/html; charset=utf-8\" http-equiv=\"content-type\"/>\n",
       "</head>\n",
       "<body>\n",
       "<h3><a href=\"https://ssearch.oreilly.com/?q=python\">O'Reilly Python\n",
       "        Books</a></h3>\n",
       "    There are literally dozens, if not hundreds, of books about the Python programming language and its uses. Here are but a few:\n",
       "    <ul>\n",
       "<li><a href=\"https://ssearch.oreilly.com/?q=python\"><booktitle>Learning Python</booktitle></a>; <author>Mark Lutz</author>; <publisher>O'Reilly Media</publisher>; <release>June 2013</release></li>\n",
       "<li><a href=\"https://ssearch.oreilly.com/?q=python\"><booktitle>Web Scraping with Python</booktitle></a>; <author>Ryan Mitchell</author>; <publisher>O'Reilly Media</publisher>; <release>November 2017</release></li>\n",
       "<li><a href=\"https://ssearch.oreilly.com/?q=python\"><booktitle>Python Coding for Kids</booktitle></a>; <author>Don Wilcher</author>; <publisher>Maker Media, Inc</publisher>; <release>September 2017</release></li>\n",
       "<li><a href=\"https://ssearch.oreilly.com/?q=python\"><booktitle>Python Machine Learning By Example</booktitle></a>; <author>Yuxi Liu</author>; <publisher>Packt Publishing</publisher>; <release>May 2017</release></li>\n",
       "<li><a href=\"https://ssearch.oreilly.com/?q=python\"><booktitle>Python Data Structures and Algorithms</booktitle></a>; <author>Benjamin Baka</author>; <publisher>Packt Publishing</publisher>; <release>May 2017</release></li>\n",
       "<li><a href=\"https://ssearch.oreilly.com/?q=python\"><booktitle>Python in a Nutshell</booktitle></a>; <author>Alex Martelli, Anna Ravenscroft, Steve Holden</author>; <publisher>O'Reilly Media</publisher>; <release>April 2017</release></li>\n",
       "<li><a href=\"https://ssearch.oreilly.com/?q=python\"><booktitle>Invent Your Own Computer Games with Python</booktitle></a>; <author>Al Sweigart</author>; <publisher>No Starch Press</publisher>; <release>December 2016</release></li>\n",
       "<li><a href=\"https://ssearch.oreilly.com/?q=python\"><booktitle>Head First Python</booktitle></a>; <author>Paul Barry</author>; <publisher>O'Reilly Media</publisher>; <release>November 2016</release></li>\n",
       "<li><a href=\"https://ssearch.oreilly.com/?q=python\"><booktitle>Integrating Python with Leading Computer Forensics Platforms</booktitle></a>; <author>Chet Hosmer</author>; <publisher>Elsevier / Syngress</publisher>; <release>September 2016</release></li>\n",
       "<li><a href=\"https://ssearch.oreilly.com/?q=python\"><booktitle>Data Science Essentials in Python</booktitle></a>; <author>Dmitry Zinoviev</author>; <publisher>Pragmatic Bookshelf</publisher>; <release>August 2016</release></li>\n",
       "</ul>\n",
       "    All trademarks and registered trademarks are the property of their respective owners.<br/>\n",
       "<br/>\n",
       "<table border=\"1\" cellpadding=\"2\" cellspacing=\"2\" width=\"100%\">\n",
       "<tbody>\n",
       "<tr>\n",
       "<td valign=\"top\"><b>Title</b><b><br/>\n",
       "</b></td>\n",
       "<td valign=\"top\"><b>Author(S)</b><b><br/>\n",
       "</b></td>\n",
       "<td valign=\"top\"><b>Publisher</b><b><br/>\n",
       "</b></td>\n",
       "<td valign=\"top\"><b>PubDate</b><b><br/>\n",
       "</b></td>\n",
       "</tr>\n",
       "<tr>\n",
       "<td valign=\"top\"><a href=\"https://ssearch.oreilly.com/?q=python\">Learning Python</a></td>\n",
       "<td valign=\"top\">Mark Lutz</td>\n",
       "<td valign=\"top\">O'Reilly Media</td>\n",
       "<td valign=\"top\">June 2013</td>\n",
       "</tr>\n",
       "<tr>\n",
       "<td valign=\"top\"><a href=\"https://ssearch.oreilly.com/?q=python\">Web Scraping with Python</a></td>\n",
       "<td valign=\"top\">Ryan Mitchell</td>\n",
       "<td valign=\"top\">O'Reilly Media</td>\n",
       "<td valign=\"top\">November 2017</td>\n",
       "</tr>\n",
       "<tr>\n",
       "<td valign=\"top\"><a href=\"https://ssearch.oreilly.com/?q=python\">Python Coding for Kids</a></td>\n",
       "<td valign=\"top\"><author>Don Wilcher</author></td>\n",
       "<td valign=\"top\"><publisher>Maker Media, Inc</publisher></td>\n",
       "<td valign=\"top\">September 2017</td>\n",
       "</tr>\n",
       "<tr>\n",
       "<td valign=\"top\"><a href=\"https://ssearch.oreilly.com/?q=python\">Python Machine Learning By Example</a></td>\n",
       "<td valign=\"top\">Yuxi Liu</td>\n",
       "<td valign=\"top\">Packt Publishing</td>\n",
       "<td valign=\"top\">May 2017</td>\n",
       "</tr>\n",
       "<tr>\n",
       "<td valign=\"top\"><a href=\"https://ssearch.oreilly.com/?q=python\">Python Data Structures and Algorithms</a></td>\n",
       "<td valign=\"top\">Benjamin Baka</td>\n",
       "<td valign=\"top\">Packt Publishing</td>\n",
       "<td valign=\"top\">May 2017</td>\n",
       "</tr>\n",
       "<tr>\n",
       "<td valign=\"top\"><a href=\"https://ssearch.oreilly.com/?q=python\">Python in a Nutshell</a></td>\n",
       "<td valign=\"top\">Alex Martelli, Anna Ravenscroft</td>\n",
       "<td valign=\"top\">O'Reilly Media</td>\n",
       "<td valign=\"top\">April 2017</td>\n",
       "</tr>\n",
       "<tr>\n",
       "<td valign=\"top\"><a href=\"https://ssearch.oreilly.com/?q=python\">Invent Your Own Computer Games with Python</a></td>\n",
       "<td valign=\"top\">Al Sweigart</td>\n",
       "<td valign=\"top\">No Starch Press</td>\n",
       "<td valign=\"top\">December 2016</td>\n",
       "</tr>\n",
       "<tr>\n",
       "<td valign=\"top\"><a href=\"https://ssearch.oreilly.com/?q=python\">Head First Python</a></td>\n",
       "<td valign=\"top\">Paul Barry</td>\n",
       "<td valign=\"top\">O'Reilly Media</td>\n",
       "<td valign=\"top\">November 2016</td>\n",
       "</tr>\n",
       "<tr>\n",
       "<td valign=\"top\"><a href=\"https://ssearch.oreilly.com/?q=python\">Integrating Python with Leading Computer Forensics Platforms</a></td>\n",
       "<td valign=\"top\"><author>Chet Hosmer</author></td>\n",
       "<td valign=\"top\">Elsevier / Syngress</td>\n",
       "<td valign=\"top\">September 2016</td>\n",
       "</tr>\n",
       "<tr>\n",
       "<td valign=\"top\"><a href=\"https://ssearch.oreilly.com/?q=python\">Data Science Essentials in Python</a></td>\n",
       "<td valign=\"top\"><author>Dmitry Zinoviev</author></td>\n",
       "<td valign=\"top\"><publisher>Pragmatic Bookshelf</publisher></td>\n",
       "<td valign=\"top\">August 2016</td>\n",
       "</tr>\n",
       "</tbody>\n",
       "</table>\n",
       "<br/>\n",
       "</body>\n",
       "</html>"
      ]
     },
     "execution_count": 14,
     "metadata": {},
     "output_type": "execute_result"
    }
   ],
   "source": [
    "soup = BeautifulSoup(source.content)\n",
    "soup"
   ]
  },
  {
   "cell_type": "code",
   "execution_count": 19,
   "id": "40fc0161",
   "metadata": {},
   "outputs": [
    {
     "data": {
      "text/plain": [
       "[<table border=\"1\" cellpadding=\"2\" cellspacing=\"2\" width=\"100%\">\n",
       " <tbody>\n",
       " <tr>\n",
       " <td valign=\"top\"><b>Title</b><b><br/>\n",
       " </b></td>\n",
       " <td valign=\"top\"><b>Author(S)</b><b><br/>\n",
       " </b></td>\n",
       " <td valign=\"top\"><b>Publisher</b><b><br/>\n",
       " </b></td>\n",
       " <td valign=\"top\"><b>PubDate</b><b><br/>\n",
       " </b></td>\n",
       " </tr>\n",
       " <tr>\n",
       " <td valign=\"top\"><a href=\"https://ssearch.oreilly.com/?q=python\">Learning Python</a></td>\n",
       " <td valign=\"top\">Mark Lutz</td>\n",
       " <td valign=\"top\">O'Reilly Media</td>\n",
       " <td valign=\"top\">June 2013</td>\n",
       " </tr>\n",
       " <tr>\n",
       " <td valign=\"top\"><a href=\"https://ssearch.oreilly.com/?q=python\">Web Scraping with Python</a></td>\n",
       " <td valign=\"top\">Ryan Mitchell</td>\n",
       " <td valign=\"top\">O'Reilly Media</td>\n",
       " <td valign=\"top\">November 2017</td>\n",
       " </tr>\n",
       " <tr>\n",
       " <td valign=\"top\"><a href=\"https://ssearch.oreilly.com/?q=python\">Python Coding for Kids</a></td>\n",
       " <td valign=\"top\"><author>Don Wilcher</author></td>\n",
       " <td valign=\"top\"><publisher>Maker Media, Inc</publisher></td>\n",
       " <td valign=\"top\">September 2017</td>\n",
       " </tr>\n",
       " <tr>\n",
       " <td valign=\"top\"><a href=\"https://ssearch.oreilly.com/?q=python\">Python Machine Learning By Example</a></td>\n",
       " <td valign=\"top\">Yuxi Liu</td>\n",
       " <td valign=\"top\">Packt Publishing</td>\n",
       " <td valign=\"top\">May 2017</td>\n",
       " </tr>\n",
       " <tr>\n",
       " <td valign=\"top\"><a href=\"https://ssearch.oreilly.com/?q=python\">Python Data Structures and Algorithms</a></td>\n",
       " <td valign=\"top\">Benjamin Baka</td>\n",
       " <td valign=\"top\">Packt Publishing</td>\n",
       " <td valign=\"top\">May 2017</td>\n",
       " </tr>\n",
       " <tr>\n",
       " <td valign=\"top\"><a href=\"https://ssearch.oreilly.com/?q=python\">Python in a Nutshell</a></td>\n",
       " <td valign=\"top\">Alex Martelli, Anna Ravenscroft</td>\n",
       " <td valign=\"top\">O'Reilly Media</td>\n",
       " <td valign=\"top\">April 2017</td>\n",
       " </tr>\n",
       " <tr>\n",
       " <td valign=\"top\"><a href=\"https://ssearch.oreilly.com/?q=python\">Invent Your Own Computer Games with Python</a></td>\n",
       " <td valign=\"top\">Al Sweigart</td>\n",
       " <td valign=\"top\">No Starch Press</td>\n",
       " <td valign=\"top\">December 2016</td>\n",
       " </tr>\n",
       " <tr>\n",
       " <td valign=\"top\"><a href=\"https://ssearch.oreilly.com/?q=python\">Head First Python</a></td>\n",
       " <td valign=\"top\">Paul Barry</td>\n",
       " <td valign=\"top\">O'Reilly Media</td>\n",
       " <td valign=\"top\">November 2016</td>\n",
       " </tr>\n",
       " <tr>\n",
       " <td valign=\"top\"><a href=\"https://ssearch.oreilly.com/?q=python\">Integrating Python with Leading Computer Forensics Platforms</a></td>\n",
       " <td valign=\"top\"><author>Chet Hosmer</author></td>\n",
       " <td valign=\"top\">Elsevier / Syngress</td>\n",
       " <td valign=\"top\">September 2016</td>\n",
       " </tr>\n",
       " <tr>\n",
       " <td valign=\"top\"><a href=\"https://ssearch.oreilly.com/?q=python\">Data Science Essentials in Python</a></td>\n",
       " <td valign=\"top\"><author>Dmitry Zinoviev</author></td>\n",
       " <td valign=\"top\"><publisher>Pragmatic Bookshelf</publisher></td>\n",
       " <td valign=\"top\">August 2016</td>\n",
       " </tr>\n",
       " </tbody>\n",
       " </table>]"
      ]
     },
     "execution_count": 19,
     "metadata": {},
     "output_type": "execute_result"
    }
   ],
   "source": [
    "t1 = soup.findAll(\"table\")\n",
    "t1"
   ]
  },
  {
   "cell_type": "code",
   "execution_count": 44,
   "id": "0b93c0c7",
   "metadata": {},
   "outputs": [],
   "source": [
    "cells = []\n",
    "for i in t1[0].findAll('tr'):\n",
    "    cell=[]\n",
    "    for j in i: \n",
    "        if j.text.strip() !='':\n",
    "            cell.append((j.text).strip())\n",
    "    cells.append(cell)\n"
   ]
  },
  {
   "cell_type": "code",
   "execution_count": 45,
   "id": "2d6436e2",
   "metadata": {},
   "outputs": [
    {
     "data": {
      "text/plain": [
       "[['Title', 'Author(S)', 'Publisher', 'PubDate'],\n",
       " ['Learning Python', 'Mark Lutz', \"O'Reilly Media\", 'June 2013'],\n",
       " ['Web Scraping with Python',\n",
       "  'Ryan Mitchell',\n",
       "  \"O'Reilly Media\",\n",
       "  'November 2017'],\n",
       " ['Python Coding for Kids',\n",
       "  'Don Wilcher',\n",
       "  'Maker Media, Inc',\n",
       "  'September 2017'],\n",
       " ['Python Machine Learning By Example',\n",
       "  'Yuxi Liu',\n",
       "  'Packt Publishing',\n",
       "  'May 2017'],\n",
       " ['Python Data Structures and Algorithms',\n",
       "  'Benjamin Baka',\n",
       "  'Packt Publishing',\n",
       "  'May 2017'],\n",
       " ['Python in a Nutshell',\n",
       "  'Alex Martelli, Anna Ravenscroft',\n",
       "  \"O'Reilly Media\",\n",
       "  'April 2017'],\n",
       " ['Invent Your Own Computer Games with Python',\n",
       "  'Al Sweigart',\n",
       "  'No Starch Press',\n",
       "  'December 2016'],\n",
       " ['Head First Python', 'Paul Barry', \"O'Reilly Media\", 'November 2016'],\n",
       " ['Integrating Python with Leading Computer Forensics Platforms',\n",
       "  'Chet Hosmer',\n",
       "  'Elsevier / Syngress',\n",
       "  'September 2016'],\n",
       " ['Data Science Essentials in Python',\n",
       "  'Dmitry Zinoviev',\n",
       "  'Pragmatic Bookshelf',\n",
       "  'August 2016']]"
      ]
     },
     "execution_count": 45,
     "metadata": {},
     "output_type": "execute_result"
    }
   ],
   "source": [
    "cells"
   ]
  },
  {
   "cell_type": "markdown",
   "id": "8fc18f13",
   "metadata": {},
   "source": [
    "# Q1"
   ]
  },
  {
   "cell_type": "code",
   "execution_count": 64,
   "id": "841a960d",
   "metadata": {},
   "outputs": [
    {
     "data": {
      "text/html": [
       "<div>\n",
       "<style scoped>\n",
       "    .dataframe tbody tr th:only-of-type {\n",
       "        vertical-align: middle;\n",
       "    }\n",
       "\n",
       "    .dataframe tbody tr th {\n",
       "        vertical-align: top;\n",
       "    }\n",
       "\n",
       "    .dataframe thead th {\n",
       "        text-align: right;\n",
       "    }\n",
       "</style>\n",
       "<table border=\"1\" class=\"dataframe\">\n",
       "  <thead>\n",
       "    <tr style=\"text-align: right;\">\n",
       "      <th></th>\n",
       "      <th>Title</th>\n",
       "      <th>Author(S)</th>\n",
       "      <th>Publisher</th>\n",
       "      <th>PubDate</th>\n",
       "    </tr>\n",
       "  </thead>\n",
       "  <tbody>\n",
       "    <tr>\n",
       "      <th>0</th>\n",
       "      <td>Learning Python</td>\n",
       "      <td>Mark Lutz</td>\n",
       "      <td>O'Reilly Media</td>\n",
       "      <td>June 2013</td>\n",
       "    </tr>\n",
       "    <tr>\n",
       "      <th>1</th>\n",
       "      <td>Web Scraping with Python</td>\n",
       "      <td>Ryan Mitchell</td>\n",
       "      <td>O'Reilly Media</td>\n",
       "      <td>November 2017</td>\n",
       "    </tr>\n",
       "    <tr>\n",
       "      <th>2</th>\n",
       "      <td>Python Coding for Kids</td>\n",
       "      <td>Don Wilcher</td>\n",
       "      <td>Maker Media, Inc</td>\n",
       "      <td>September 2017</td>\n",
       "    </tr>\n",
       "    <tr>\n",
       "      <th>3</th>\n",
       "      <td>Python Machine Learning By Example</td>\n",
       "      <td>Yuxi Liu</td>\n",
       "      <td>Packt Publishing</td>\n",
       "      <td>May 2017</td>\n",
       "    </tr>\n",
       "    <tr>\n",
       "      <th>4</th>\n",
       "      <td>Python Data Structures and Algorithms</td>\n",
       "      <td>Benjamin Baka</td>\n",
       "      <td>Packt Publishing</td>\n",
       "      <td>May 2017</td>\n",
       "    </tr>\n",
       "    <tr>\n",
       "      <th>5</th>\n",
       "      <td>Python in a Nutshell</td>\n",
       "      <td>Alex Martelli, Anna Ravenscroft</td>\n",
       "      <td>O'Reilly Media</td>\n",
       "      <td>April 2017</td>\n",
       "    </tr>\n",
       "    <tr>\n",
       "      <th>6</th>\n",
       "      <td>Invent Your Own Computer Games with Python</td>\n",
       "      <td>Al Sweigart</td>\n",
       "      <td>No Starch Press</td>\n",
       "      <td>December 2016</td>\n",
       "    </tr>\n",
       "    <tr>\n",
       "      <th>7</th>\n",
       "      <td>Head First Python</td>\n",
       "      <td>Paul Barry</td>\n",
       "      <td>O'Reilly Media</td>\n",
       "      <td>November 2016</td>\n",
       "    </tr>\n",
       "    <tr>\n",
       "      <th>8</th>\n",
       "      <td>Integrating Python with Leading Computer Foren...</td>\n",
       "      <td>Chet Hosmer</td>\n",
       "      <td>Elsevier / Syngress</td>\n",
       "      <td>September 2016</td>\n",
       "    </tr>\n",
       "    <tr>\n",
       "      <th>9</th>\n",
       "      <td>Data Science Essentials in Python</td>\n",
       "      <td>Dmitry Zinoviev</td>\n",
       "      <td>Pragmatic Bookshelf</td>\n",
       "      <td>August 2016</td>\n",
       "    </tr>\n",
       "  </tbody>\n",
       "</table>\n",
       "</div>"
      ],
      "text/plain": [
       "                                               Title  \\\n",
       "0                                    Learning Python   \n",
       "1                           Web Scraping with Python   \n",
       "2                             Python Coding for Kids   \n",
       "3                 Python Machine Learning By Example   \n",
       "4              Python Data Structures and Algorithms   \n",
       "5                               Python in a Nutshell   \n",
       "6         Invent Your Own Computer Games with Python   \n",
       "7                                  Head First Python   \n",
       "8  Integrating Python with Leading Computer Foren...   \n",
       "9                  Data Science Essentials in Python   \n",
       "\n",
       "                         Author(S)            Publisher         PubDate  \n",
       "0                        Mark Lutz       O'Reilly Media       June 2013  \n",
       "1                    Ryan Mitchell       O'Reilly Media   November 2017  \n",
       "2                      Don Wilcher     Maker Media, Inc  September 2017  \n",
       "3                         Yuxi Liu     Packt Publishing        May 2017  \n",
       "4                    Benjamin Baka     Packt Publishing        May 2017  \n",
       "5  Alex Martelli, Anna Ravenscroft       O'Reilly Media      April 2017  \n",
       "6                      Al Sweigart      No Starch Press   December 2016  \n",
       "7                       Paul Barry       O'Reilly Media   November 2016  \n",
       "8                      Chet Hosmer  Elsevier / Syngress  September 2016  \n",
       "9                  Dmitry Zinoviev  Pragmatic Bookshelf     August 2016  "
      ]
     },
     "execution_count": 64,
     "metadata": {},
     "output_type": "execute_result"
    }
   ],
   "source": [
    "df = pd.DataFrame(cells[1:],columns=cells[0])\n",
    "df.to_csv(\"C:/Users/saich/Downloads/AIT/Charan_G01351600.csv\")\n",
    "df"
   ]
  },
  {
   "cell_type": "markdown",
   "id": "6f5eb2b8",
   "metadata": {},
   "source": [
    "# Q2 a"
   ]
  },
  {
   "cell_type": "code",
   "execution_count": 52,
   "id": "03921564",
   "metadata": {},
   "outputs": [
    {
     "data": {
      "text/plain": [
       "O'Reilly Media         4\n",
       "Packt Publishing       2\n",
       "Maker Media, Inc       1\n",
       "No Starch Press        1\n",
       "Elsevier / Syngress    1\n",
       "Pragmatic Bookshelf    1\n",
       "Name: Publisher, dtype: int64"
      ]
     },
     "execution_count": 52,
     "metadata": {},
     "output_type": "execute_result"
    }
   ],
   "source": [
    "publisherdf = df['Publisher'].value_counts()\n",
    "publisherdf"
   ]
  },
  {
   "cell_type": "code",
   "execution_count": 57,
   "id": "ccd8fde0",
   "metadata": {},
   "outputs": [
    {
     "data": {
      "text/html": [
       "<div>\n",
       "<style scoped>\n",
       "    .dataframe tbody tr th:only-of-type {\n",
       "        vertical-align: middle;\n",
       "    }\n",
       "\n",
       "    .dataframe tbody tr th {\n",
       "        vertical-align: top;\n",
       "    }\n",
       "\n",
       "    .dataframe thead th {\n",
       "        text-align: right;\n",
       "    }\n",
       "</style>\n",
       "<table border=\"1\" class=\"dataframe\">\n",
       "  <thead>\n",
       "    <tr style=\"text-align: right;\">\n",
       "      <th></th>\n",
       "      <th>index</th>\n",
       "      <th>Publisher</th>\n",
       "    </tr>\n",
       "  </thead>\n",
       "  <tbody>\n",
       "    <tr>\n",
       "      <th>0</th>\n",
       "      <td>O'Reilly Media</td>\n",
       "      <td>4</td>\n",
       "    </tr>\n",
       "    <tr>\n",
       "      <th>1</th>\n",
       "      <td>Packt Publishing</td>\n",
       "      <td>2</td>\n",
       "    </tr>\n",
       "    <tr>\n",
       "      <th>2</th>\n",
       "      <td>Maker Media, Inc</td>\n",
       "      <td>1</td>\n",
       "    </tr>\n",
       "    <tr>\n",
       "      <th>3</th>\n",
       "      <td>No Starch Press</td>\n",
       "      <td>1</td>\n",
       "    </tr>\n",
       "    <tr>\n",
       "      <th>4</th>\n",
       "      <td>Elsevier / Syngress</td>\n",
       "      <td>1</td>\n",
       "    </tr>\n",
       "    <tr>\n",
       "      <th>5</th>\n",
       "      <td>Pragmatic Bookshelf</td>\n",
       "      <td>1</td>\n",
       "    </tr>\n",
       "  </tbody>\n",
       "</table>\n",
       "</div>"
      ],
      "text/plain": [
       "                 index  Publisher\n",
       "0       O'Reilly Media          4\n",
       "1     Packt Publishing          2\n",
       "2     Maker Media, Inc          1\n",
       "3      No Starch Press          1\n",
       "4  Elsevier / Syngress          1\n",
       "5  Pragmatic Bookshelf          1"
      ]
     },
     "execution_count": 57,
     "metadata": {},
     "output_type": "execute_result"
    }
   ],
   "source": [
    "publisherdf = publisherdf.reset_index()\n",
    "publisherdf"
   ]
  },
  {
   "cell_type": "markdown",
   "id": "369cbbba",
   "metadata": {},
   "source": [
    "# Q2 b"
   ]
  },
  {
   "cell_type": "code",
   "execution_count": 58,
   "id": "fb5f08e7",
   "metadata": {},
   "outputs": [
    {
     "data": {
      "text/plain": [
       "<AxesSubplot:xlabel='index'>"
      ]
     },
     "execution_count": 58,
     "metadata": {},
     "output_type": "execute_result"
    },
    {
     "data": {
      "image/png": "[encoded data removed]",
      "text/plain": [
       "<Figure size 432x288 with 1 Axes>"
      ]
     },
     "metadata": {
      "needs_background": "light"
     },
     "output_type": "display_data"
    }
   ],
   "source": [
    "publisherdf.plot.bar(x='index', y='Publisher')"
   ]
  },
  {
   "cell_type": "markdown",
   "id": "1ca3e600",
   "metadata": {},
   "source": [
    "# Q2 c"
   ]
  },
  {
   "cell_type": "code",
   "execution_count": 65,
   "id": "c58b6007",
   "metadata": {},
   "outputs": [
    {
     "data": {
      "text/plain": [
       "May 2017          2\n",
       "June 2013         1\n",
       "November 2017     1\n",
       "September 2017    1\n",
       "April 2017        1\n",
       "December 2016     1\n",
       "November 2016     1\n",
       "September 2016    1\n",
       "August 2016       1\n",
       "Name: PubDate, dtype: int64"
      ]
     },
     "execution_count": 65,
     "metadata": {},
     "output_type": "execute_result"
    }
   ],
   "source": [
    "PubDatedf = df['PubDate'].value_counts()\n",
    "PubDatedf"
   ]
  },
  {
   "cell_type": "code",
   "execution_count": 66,
   "id": "5ca8efbd",
   "metadata": {},
   "outputs": [
    {
     "data": {
      "text/html": [
       "<div>\n",
       "<style scoped>\n",
       "    .dataframe tbody tr th:only-of-type {\n",
       "        vertical-align: middle;\n",
       "    }\n",
       "\n",
       "    .dataframe tbody tr th {\n",
       "        vertical-align: top;\n",
       "    }\n",
       "\n",
       "    .dataframe thead th {\n",
       "        text-align: right;\n",
       "    }\n",
       "</style>\n",
       "<table border=\"1\" class=\"dataframe\">\n",
       "  <thead>\n",
       "    <tr style=\"text-align: right;\">\n",
       "      <th></th>\n",
       "      <th>index</th>\n",
       "      <th>PubDate</th>\n",
       "    </tr>\n",
       "  </thead>\n",
       "  <tbody>\n",
       "    <tr>\n",
       "      <th>0</th>\n",
       "      <td>May 2017</td>\n",
       "      <td>2</td>\n",
       "    </tr>\n",
       "    <tr>\n",
       "      <th>1</th>\n",
       "      <td>June 2013</td>\n",
       "      <td>1</td>\n",
       "    </tr>\n",
       "    <tr>\n",
       "      <th>2</th>\n",
       "      <td>November 2017</td>\n",
       "      <td>1</td>\n",
       "    </tr>\n",
       "    <tr>\n",
       "      <th>3</th>\n",
       "      <td>September 2017</td>\n",
       "      <td>1</td>\n",
       "    </tr>\n",
       "    <tr>\n",
       "      <th>4</th>\n",
       "      <td>April 2017</td>\n",
       "      <td>1</td>\n",
       "    </tr>\n",
       "    <tr>\n",
       "      <th>5</th>\n",
       "      <td>December 2016</td>\n",
       "      <td>1</td>\n",
       "    </tr>\n",
       "    <tr>\n",
       "      <th>6</th>\n",
       "      <td>November 2016</td>\n",
       "      <td>1</td>\n",
       "    </tr>\n",
       "    <tr>\n",
       "      <th>7</th>\n",
       "      <td>September 2016</td>\n",
       "      <td>1</td>\n",
       "    </tr>\n",
       "    <tr>\n",
       "      <th>8</th>\n",
       "      <td>August 2016</td>\n",
       "      <td>1</td>\n",
       "    </tr>\n",
       "  </tbody>\n",
       "</table>\n",
       "</div>"
      ],
      "text/plain": [
       "            index  PubDate\n",
       "0        May 2017        2\n",
       "1       June 2013        1\n",
       "2   November 2017        1\n",
       "3  September 2017        1\n",
       "4      April 2017        1\n",
       "5   December 2016        1\n",
       "6   November 2016        1\n",
       "7  September 2016        1\n",
       "8     August 2016        1"
      ]
     },
     "execution_count": 66,
     "metadata": {},
     "output_type": "execute_result"
    }
   ],
   "source": [
    "PubDatedf = PubDatedf.reset_index()\n",
    "PubDatedf"
   ]
  },
  {
   "cell_type": "markdown",
   "id": "ce8c56b5",
   "metadata": {},
   "source": [
    "# Q2 d"
   ]
  },
  {
   "cell_type": "code",
   "execution_count": 68,
   "id": "f05ab228",
   "metadata": {},
   "outputs": [
    {
     "data": {
      "text/plain": [
       "<AxesSubplot:xlabel='index'>"
      ]
     },
     "execution_count": 68,
     "metadata": {},
     "output_type": "execute_result"
    },
    {
     "data": {
      "image/png": "[encoded data removed]",
      "text/plain": [
       "<Figure size 432x288 with 1 Axes>"
      ]
     },
     "metadata": {
      "needs_background": "light"
     },
     "output_type": "display_data"
    }
   ],
   "source": [
    "PubDatedf.plot.bar(x='index', y='PubDate')"
   ]
  }
 ],
 "metadata": {
  "kernelspec": {
   "display_name": "Python 3 (ipykernel)",
   "language": "python",
   "name": "python3"
  },
  "language_info": {
   "codemirror_mode": {
    "name": "ipython",
    "version": 3
   },
   "file_extension": ".py",
   "mimetype": "text/x-python",
   "name": "python",
   "nbconvert_exporter": "python",
   "pygments_lexer": "ipython3",
   "version": "3.9.7"
  }
 },
 "nbformat": 4,
 "nbformat_minor": 5
}
